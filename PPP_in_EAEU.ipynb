{
 "cells": [
  {
   "cell_type": "markdown",
   "id": "asian-playlist",
   "metadata": {
    "heading_collapsed": true,
    "id": "asian-playlist"
   },
   "source": [
    "### Setup"
   ]
  },
  {
   "cell_type": "code",
   "execution_count": 1,
   "id": "dress-charger",
   "metadata": {
    "hidden": true,
    "id": "dress-charger",
    "init_cell": true
   },
   "outputs": [],
   "source": [
    "# Main\n",
    "import numpy as np\n",
    "import scipy as sp\n",
    "import pandas as pd\n",
    "import datetime as dt\n",
    "from statsmodels.tsa.tsatools import lagmat\n",
    "\n",
    "# Modeling\n",
    "import statsmodels.api as sm\n",
    "from statsmodels.tsa.tsatools import add_trend\n",
    "\n",
    "# Unit root\n",
    "from arch.unitroot import ADF, DFGLS, PhillipsPerron, KPSS, ZivotAndrews\n",
    "from quantileADF import QAR, comparisonPlot\n",
    "from quantileTAR import QTAR, QTAR_CustomRport\n",
    "from report import countryReport, reportCountries\n",
    "\n",
    "# Tests and function\n",
    "import statsmodels as sm\n",
    "import statsmodels.api as sma\n",
    "from statsmodels.stats.stattools import jarque_bera\n",
    "from statsmodels.regression.linear_model import OLS\n",
    "\n",
    "# Plotting\n",
    "import matplotlib.pyplot as plt\n",
    "import matplotlib.ticker as ticker\n",
    "\n",
    "# Setup\n",
    "repoUrl = 'https://raw.githubusercontent.com/vlad-yeghiazaryan/QADF/master/data/'\n",
    "broadREERsUrl = repoUrl + 'broadREERs.csv'\n",
    "narrowREERsUrl = repoUrl + 'narrowREERs.csv'\n",
    "pd.io.formats.excel.ExcelFormatter.header_style = None"
   ]
  },
  {
   "cell_type": "code",
   "execution_count": 2,
   "id": "basic-leonard",
   "metadata": {
    "hidden": true,
    "init_cell": true
   },
   "outputs": [],
   "source": [
    "def univariate(data):\n",
    "    univariateTests = pd.DataFrame()\n",
    "    univariateTests['ADF'] = data.apply(lambda col: ADF(col).pvalue)\n",
    "    univariateTests['DFGLS'] = data.apply(lambda col: DFGLS(col).pvalue)\n",
    "    univariateTests['PP'] = data.apply(lambda col: PhillipsPerron(col).pvalue)\n",
    "    univariateTests['KPSS'] = data.apply(lambda col: KPSS(col).pvalue)\n",
    "    univariateTests['ZA'] = data.apply(lambda col: ZivotAndrews(col).pvalue)\n",
    "    return univariateTests.applymap(lambda x: '%.0f' % x if x.is_integer() else '%.3f' % x)"
   ]
  },
  {
   "cell_type": "code",
   "execution_count": 3,
   "id": "female-cotton",
   "metadata": {
    "hidden": true,
    "init_cell": true
   },
   "outputs": [],
   "source": [
    "def comparisonPlots(data,fileName='changesOverQuantiles'):\n",
    "    figs = []\n",
    "    for index, pos in enumerate(range(0, data.shape[1], 3)):\n",
    "        columns = data.columns[pos: min(data.shape[1], pos+3)]\n",
    "        figsize = (len(columns)*5, 6)\n",
    "        countries = data[columns]\n",
    "        fig = comparisonPlot(countries, figsize=figsize)\n",
    "        figs.append(fig)\n",
    "        plt.savefig(f'Outputs/{fileName}-{index+1}', dpi = 150)\n",
    "    return figs"
   ]
  },
  {
   "cell_type": "code",
   "execution_count": 4,
   "id": "meaningful-judgment",
   "metadata": {
    "hidden": true,
    "init_cell": true
   },
   "outputs": [],
   "source": [
    "def markovRegimeSwitchingPlots(data, fileName='regimeSwitchingProbabilities'):\n",
    "    figs = []\n",
    "    for i, pos in enumerate(range(0, data.shape[1], 2)):\n",
    "        columns = data.columns[pos: min(data.shape[1], pos+2)]\n",
    "        figsize = (len(columns)*5, 6)\n",
    "        fig = plt.figure()\n",
    "        for index, country in enumerate(columns):\n",
    "            mainModel = QAR(data[country])\n",
    "            ax = fig.add_subplot(1, len(columns), index+1)\n",
    "            mod = sma.tsa.MarkovRegression(mainModel.y, trend='c', k_regimes=2, order=2, freq='MS').fit()\n",
    "            ylabel = 'Probability of being in the high regime'\n",
    "            title = mainModel.name\n",
    "            ax = mod.smoothed_marginal_probabilities[1].plot(title=title,ylabel=ylabel, figsize=(12,3))\n",
    "            ax.axvline('2015-1-1', color='black')\n",
    "            trans = ax.get_xaxis_transform()\n",
    "            plt.text('2015-1-1', -.1, 'EAEU', transform=trans, weight='bold')\n",
    "            ax.get_yaxis().set_major_formatter(ticker.FuncFormatter(lambda x, p: format(int(x), ',')))\n",
    "        figs.append(fig)\n",
    "        plt.savefig(f'Outputs/{fileName}-{i+1}', dpi = 150)\n",
    "    return figs"
   ]
  },
  {
   "cell_type": "code",
   "execution_count": 5,
   "id": "later-newport",
   "metadata": {
    "hidden": true,
    "init_cell": true
   },
   "outputs": [],
   "source": [
    "def saveToExcel(dataframe, path, def_properties={}):\n",
    "    # Setup\n",
    "    writer = pd.ExcelWriter(path)\n",
    "    dataframe.style.set_properties(**def_properties).to_excel(writer)\n",
    "\n",
    "    def dummyCriteria(f): return {'type': 'cell',\n",
    "                                  'criteria': '!=', 'value': 0, 'format': f}\n",
    "\n",
    "    def excel_colnum_string(n):\n",
    "        string = \"\"\n",
    "        while n > 0:\n",
    "            n, remainder = divmod(n - 1, 26)\n",
    "            string = chr(65 + remainder) + string\n",
    "        return string\n",
    "\n",
    "    # Accessing\n",
    "    workbook = writer.book\n",
    "    worksheet = writer.sheets['Sheet1']\n",
    "    colLetter = excel_colnum_string(dataframe.shape[1]+1)\n",
    "    tableRange = 'A1:'+colLetter+str(dataframe.shape[0]+1)\n",
    "    header = 'A1:'+colLetter+'1'\n",
    "    footer = 'A'+str(dataframe.shape[0]+1) + \\\n",
    "        ':'+colLetter+str(dataframe.shape[0]+1)\n",
    "    indexCol = 'A1:'+'A'+str(dataframe.shape[0]+1)\n",
    "\n",
    "    # Styles\n",
    "    defaultFormat = {'font_name': 'Calibri', 'font_size': 8,\n",
    "                     'bg_color': '#FFFFFF',\n",
    "                     'align': 'center',\n",
    "                     'valign': 'vcenter',\n",
    "                     'border': 0,\n",
    "                     'shrink': True,\n",
    "                     'text_wrap': True}\n",
    "    columnFormat = workbook.add_format(defaultFormat)\n",
    "    columnFormat.set_font_size(8)\n",
    "    headerFormat = workbook.add_format(\n",
    "        {**defaultFormat, **{'top': 5, 'bottom': 2, 'bold': True}})\n",
    "    footerFormat = workbook.add_format({**defaultFormat, **{'bottom': 5}})\n",
    "    indexFormat = workbook.add_format({**defaultFormat, **{'align': 'left'}})\n",
    "\n",
    "    # Applying Styles\n",
    "    worksheet.conditional_format(tableRange, dummyCriteria(columnFormat))\n",
    "    worksheet.conditional_format(header, dummyCriteria(headerFormat))\n",
    "    worksheet.conditional_format(footer, dummyCriteria(footerFormat))\n",
    "    worksheet.conditional_format(indexCol, dummyCriteria(indexFormat))\n",
    "    writer.save()\n",
    "    print('Table saved to:', path)"
   ]
  },
  {
   "cell_type": "code",
   "execution_count": 6,
   "id": "hungarian-cleaners",
   "metadata": {
    "hidden": true,
    "init_cell": true,
    "scrolled": true
   },
   "outputs": [
    {
     "name": "stdout",
     "output_type": "stream",
     "text": [
      "<class 'pandas.core.frame.DataFrame'>\n",
      "DatetimeIndex: 252 entries, 2000-01-01 to 2020-12-01\n",
      "Freq: MS\n",
      "Data columns (total 5 columns):\n",
      " #   Column              Non-Null Count  Dtype  \n",
      "---  ------              --------------  -----  \n",
      " 0   Armenia             252 non-null    float64\n",
      " 1   Belarus             252 non-null    float64\n",
      " 2   Kazakhstan          252 non-null    float64\n",
      " 3   Kyrgyz Republic     252 non-null    float64\n",
      " 4   Russian Federation  252 non-null    float64\n",
      "dtypes: float64(5)\n",
      "memory usage: 11.8 KB\n"
     ]
    }
   ],
   "source": [
    "data = pd.read_pickle('data/dataset2000.pkl')\n",
    "data.info()"
   ]
  },
  {
   "cell_type": "code",
   "execution_count": 7,
   "id": "global-documentation",
   "metadata": {
    "hidden": true,
    "init_cell": true
   },
   "outputs": [],
   "source": [
    "# Changing data\n",
    "dataLogs = data.apply(np.log, axis=1)\n",
    "dataPtC = dataLogs.diff()[1:]"
   ]
  },
  {
   "cell_type": "markdown",
   "id": "banner-balloon",
   "metadata": {
    "heading_collapsed": true,
    "id": "banner-balloon"
   },
   "source": [
    "### REERs of EAEU countries"
   ]
  },
  {
   "cell_type": "code",
   "execution_count": 8,
   "id": "corporate-writing",
   "metadata": {
    "colab": {
     "base_uri": "https://localhost:8080/"
    },
    "hidden": true,
    "id": "corporate-writing",
    "outputId": "11a4a388-f903-4b6c-b32e-5f6bfc296efb"
   },
   "outputs": [
    {
     "data": {
      "image/png": "[encoded data removed]",
      "text/plain": [
       "<Figure size 864x360 with 1 Axes>"
      ]
     },
     "metadata": {
      "needs_background": "light"
     },
     "output_type": "display_data"
    }
   ],
   "source": [
    "ax = data.plot(kind='line', subplots=False, sharey=True, \n",
    "          layout=(1,1), figsize=(12, 5), title='REERs by country', legend=False)\n",
    "\n",
    "ax.legend(bbox_to_anchor=(1, 1), loc='best')\n",
    "mark = '2015'\n",
    "ax.axvline(mark+'-1-1', color='black')\n",
    "ax.text(mark+'-1-1', -0.06, 'EAEU', transform=ax.get_xaxis_transform(), weight='bold', fontsize='large')\n",
    "\n",
    "# plt.savefig('Outputs/REERsByCountry', dpi = 150, bbox_inches='tight')\n",
    "plt.show()"
   ]
  },
  {
   "cell_type": "code",
   "execution_count": 9,
   "id": "interracial-measure",
   "metadata": {
    "colab": {
     "base_uri": "https://localhost:8080/"
    },
    "hidden": true,
    "id": "interracial-measure",
    "outputId": "7596f156-f43a-4e55-dfd0-b595ee259b58",
    "scrolled": true
   },
   "outputs": [
    {
     "data": {
      "text/html": [
       "<div>\n",
       "<style scoped>\n",
       "    .dataframe tbody tr th:only-of-type {\n",
       "        vertical-align: middle;\n",
       "    }\n",
       "\n",
       "    .dataframe tbody tr th {\n",
       "        vertical-align: top;\n",
       "    }\n",
       "\n",
       "    .dataframe thead th {\n",
       "        text-align: right;\n",
       "    }\n",
       "</style>\n",
       "<table border=\"1\" class=\"dataframe\">\n",
       "  <thead>\n",
       "    <tr style=\"text-align: right;\">\n",
       "      <th></th>\n",
       "      <th>N</th>\n",
       "      <th>Mean</th>\n",
       "      <th>Median</th>\n",
       "      <th>Min.</th>\n",
       "      <th>Max.</th>\n",
       "      <th>St.dev.</th>\n",
       "      <th>Skewness</th>\n",
       "      <th>Kurtosis</th>\n",
       "      <th>Jarque-Bera</th>\n",
       "      <th>Jarque-Bera (P-value)</th>\n",
       "    </tr>\n",
       "    <tr>\n",
       "      <th>Countries</th>\n",
       "      <th></th>\n",
       "      <th></th>\n",
       "      <th></th>\n",
       "      <th></th>\n",
       "      <th></th>\n",
       "      <th></th>\n",
       "      <th></th>\n",
       "      <th></th>\n",
       "      <th></th>\n",
       "      <th></th>\n",
       "    </tr>\n",
       "  </thead>\n",
       "  <tbody>\n",
       "    <tr>\n",
       "      <th>Armenia</th>\n",
       "      <td>252</td>\n",
       "      <td>127.879</td>\n",
       "      <td>135.958</td>\n",
       "      <td>89.885</td>\n",
       "      <td>166.704</td>\n",
       "      <td>19.159</td>\n",
       "      <td>-0.587</td>\n",
       "      <td>1.975</td>\n",
       "      <td>25.519</td>\n",
       "      <td>0.000</td>\n",
       "    </tr>\n",
       "    <tr>\n",
       "      <th>Belarus</th>\n",
       "      <td>252</td>\n",
       "      <td>75.912</td>\n",
       "      <td>77.463</td>\n",
       "      <td>52.366</td>\n",
       "      <td>100</td>\n",
       "      <td>13.029</td>\n",
       "      <td>-0.108</td>\n",
       "      <td>1.463</td>\n",
       "      <td>25.287</td>\n",
       "      <td>0.000</td>\n",
       "    </tr>\n",
       "    <tr>\n",
       "      <th>Kazakhstan</th>\n",
       "      <td>252</td>\n",
       "      <td>112.865</td>\n",
       "      <td>110.283</td>\n",
       "      <td>89.110</td>\n",
       "      <td>150.867</td>\n",
       "      <td>14.969</td>\n",
       "      <td>0.286</td>\n",
       "      <td>1.981</td>\n",
       "      <td>14.343</td>\n",
       "      <td>0.001</td>\n",
       "    </tr>\n",
       "    <tr>\n",
       "      <th>Kyrgyz Republic</th>\n",
       "      <td>252</td>\n",
       "      <td>124.187</td>\n",
       "      <td>128.753</td>\n",
       "      <td>99.346</td>\n",
       "      <td>147.947</td>\n",
       "      <td>12.583</td>\n",
       "      <td>-0.278</td>\n",
       "      <td>1.844</td>\n",
       "      <td>17.271</td>\n",
       "      <td>0.000</td>\n",
       "    </tr>\n",
       "    <tr>\n",
       "      <th>Russian Federation</th>\n",
       "      <td>252</td>\n",
       "      <td>186.077</td>\n",
       "      <td>189.731</td>\n",
       "      <td>100</td>\n",
       "      <td>239.097</td>\n",
       "      <td>33.296</td>\n",
       "      <td>-0.342</td>\n",
       "      <td>2.300</td>\n",
       "      <td>10.048</td>\n",
       "      <td>0.007</td>\n",
       "    </tr>\n",
       "  </tbody>\n",
       "</table>\n",
       "</div>"
      ],
      "text/plain": [
       "                      N     Mean   Median    Min.     Max. St.dev. Skewness  \\\n",
       "Countries                                                                     \n",
       "Armenia             252  127.879  135.958  89.885  166.704  19.159   -0.587   \n",
       "Belarus             252   75.912   77.463  52.366      100  13.029   -0.108   \n",
       "Kazakhstan          252  112.865  110.283  89.110  150.867  14.969    0.286   \n",
       "Kyrgyz Republic     252  124.187  128.753  99.346  147.947  12.583   -0.278   \n",
       "Russian Federation  252  186.077  189.731     100  239.097  33.296   -0.342   \n",
       "\n",
       "                   Kurtosis Jarque-Bera Jarque-Bera (P-value)  \n",
       "Countries                                                      \n",
       "Armenia               1.975      25.519                 0.000  \n",
       "Belarus               1.463      25.287                 0.000  \n",
       "Kazakhstan            1.981      14.343                 0.001  \n",
       "Kyrgyz Republic       1.844      17.271                 0.000  \n",
       "Russian Federation    2.300      10.048                 0.007  "
      ]
     },
     "execution_count": 9,
     "metadata": {},
     "output_type": "execute_result"
    }
   ],
   "source": [
    "colNames = {\n",
    "    'count': 'N',\n",
    "    'mean': 'Mean',\n",
    "    'std': 'St.dev.',\n",
    "    'min': 'Min.',\n",
    "    'max': 'Max.',\n",
    "    '50%': 'Median',\n",
    "}\n",
    "tests = ['Jarque-Bera', 'Jarque-Bera (P-value)', 'Skewness', 'Kurtosis']\n",
    "include = ['N', 'Mean', 'Median', 'Min.', 'Max.', 'St.dev.',\n",
    "           'Skewness', 'Kurtosis', 'Jarque-Bera', 'Jarque-Bera (P-value)']\n",
    "\n",
    "# Summary Setup\n",
    "summaryStatistics = data.describe().T\n",
    "JB = data.apply(jarque_bera).T\n",
    "summaryStatistics[tests] = JB\n",
    "summaryStatistics.rename(columns=colNames, inplace=True)\n",
    "summaryTable = summaryStatistics[include].applymap(\n",
    "    lambda x: '%.0f' % x if x.is_integer() else '%.3f' % x)\n",
    "summaryTable.index.name = 'Countries'\n",
    "# saveToExcel(summaryTable, path=\"Outputs/summaryStatistics.xlsx\", def_properties={'text-align': 'center'})\n",
    "summaryTable"
   ]
  },
  {
   "cell_type": "code",
   "execution_count": 10,
   "id": "charged-pantyhose",
   "metadata": {
    "hidden": true,
    "scrolled": true
   },
   "outputs": [
    {
     "data": {
      "text/html": [
       "<div>\n",
       "<style scoped>\n",
       "    .dataframe tbody tr th:only-of-type {\n",
       "        vertical-align: middle;\n",
       "    }\n",
       "\n",
       "    .dataframe tbody tr th {\n",
       "        vertical-align: top;\n",
       "    }\n",
       "\n",
       "    .dataframe thead th {\n",
       "        text-align: right;\n",
       "    }\n",
       "</style>\n",
       "<table border=\"1\" class=\"dataframe\">\n",
       "  <thead>\n",
       "    <tr style=\"text-align: right;\">\n",
       "      <th></th>\n",
       "      <th>ADF</th>\n",
       "      <th>DFGLS</th>\n",
       "      <th>PP</th>\n",
       "      <th>KPSS</th>\n",
       "      <th>ZA</th>\n",
       "    </tr>\n",
       "    <tr>\n",
       "      <th>Countries</th>\n",
       "      <th></th>\n",
       "      <th></th>\n",
       "      <th></th>\n",
       "      <th></th>\n",
       "      <th></th>\n",
       "    </tr>\n",
       "  </thead>\n",
       "  <tbody>\n",
       "    <tr>\n",
       "      <th>Armenia</th>\n",
       "      <td>0.431</td>\n",
       "      <td>0.422</td>\n",
       "      <td>0.465</td>\n",
       "      <td>0.000</td>\n",
       "      <td>0.135</td>\n",
       "    </tr>\n",
       "    <tr>\n",
       "      <th>Belarus</th>\n",
       "      <td>0.822</td>\n",
       "      <td>0.865</td>\n",
       "      <td>0.676</td>\n",
       "      <td>0.000</td>\n",
       "      <td>0.157</td>\n",
       "    </tr>\n",
       "    <tr>\n",
       "      <th>Kazakhstan</th>\n",
       "      <td>0.329</td>\n",
       "      <td>0.097</td>\n",
       "      <td>0.611</td>\n",
       "      <td>0.033</td>\n",
       "      <td>0.000</td>\n",
       "    </tr>\n",
       "    <tr>\n",
       "      <th>Kyrgyz Republic</th>\n",
       "      <td>0.208</td>\n",
       "      <td>0.423</td>\n",
       "      <td>0.225</td>\n",
       "      <td>0.000</td>\n",
       "      <td>0.386</td>\n",
       "    </tr>\n",
       "    <tr>\n",
       "      <th>Russian Federation</th>\n",
       "      <td>0.028</td>\n",
       "      <td>0.627</td>\n",
       "      <td>0.022</td>\n",
       "      <td>0.003</td>\n",
       "      <td>0.279</td>\n",
       "    </tr>\n",
       "  </tbody>\n",
       "</table>\n",
       "</div>"
      ],
      "text/plain": [
       "                      ADF  DFGLS     PP   KPSS     ZA\n",
       "Countries                                            \n",
       "Armenia             0.431  0.422  0.465  0.000  0.135\n",
       "Belarus             0.822  0.865  0.676  0.000  0.157\n",
       "Kazakhstan          0.329  0.097  0.611  0.033  0.000\n",
       "Kyrgyz Republic     0.208  0.423  0.225  0.000  0.386\n",
       "Russian Federation  0.028  0.627  0.022  0.003  0.279"
      ]
     },
     "execution_count": 10,
     "metadata": {},
     "output_type": "execute_result"
    }
   ],
   "source": [
    "univariateTable = univariate(dataLogs)\n",
    "univariateTable.index.name = 'Countries'\n",
    "# saveToExcel(univariateTable, path='Outputs/univariateTests.xlsx')\n",
    "univariateTable"
   ]
  },
  {
   "cell_type": "code",
   "execution_count": 11,
   "id": "attended-rider",
   "metadata": {
    "hidden": true,
    "scrolled": true
   },
   "outputs": [
    {
     "name": "stderr",
     "output_type": "stream",
     "text": [
      "/usr/local/lib/python3.8/dist-packages/statsmodels/tsa/tsatools.py:460: FutureWarning: In a future version of pandas all arguments of DataFrame.drop except for the argument 'labels' will be keyword-only\n",
      "  lags = lags.drop(x_columns, 1)\n",
      "/usr/local/lib/python3.8/dist-packages/statsmodels/tsa/tsatools.py:460: FutureWarning: In a future version of pandas all arguments of DataFrame.drop except for the argument 'labels' will be keyword-only\n",
      "  lags = lags.drop(x_columns, 1)\n",
      "/usr/local/lib/python3.8/dist-packages/statsmodels/tsa/tsatools.py:142: FutureWarning: In a future version of pandas all arguments of concat except for the argument 'objs' will be keyword-only\n",
      "  x = pd.concat(x[::order], 1)\n",
      "/usr/local/lib/python3.8/dist-packages/statsmodels/tsa/tsatools.py:460: FutureWarning: In a future version of pandas all arguments of DataFrame.drop except for the argument 'labels' will be keyword-only\n",
      "  lags = lags.drop(x_columns, 1)\n",
      "/usr/local/lib/python3.8/dist-packages/statsmodels/tsa/tsatools.py:460: FutureWarning: In a future version of pandas all arguments of DataFrame.drop except for the argument 'labels' will be keyword-only\n",
      "  lags = lags.drop(x_columns, 1)\n",
      "/usr/local/lib/python3.8/dist-packages/statsmodels/tsa/tsatools.py:142: FutureWarning: In a future version of pandas all arguments of concat except for the argument 'objs' will be keyword-only\n",
      "  x = pd.concat(x[::order], 1)\n",
      "/usr/local/lib/python3.8/dist-packages/statsmodels/tsa/tsatools.py:460: FutureWarning: In a future version of pandas all arguments of DataFrame.drop except for the argument 'labels' will be keyword-only\n",
      "  lags = lags.drop(x_columns, 1)\n",
      "/usr/local/lib/python3.8/dist-packages/statsmodels/tsa/tsatools.py:460: FutureWarning: In a future version of pandas all arguments of DataFrame.drop except for the argument 'labels' will be keyword-only\n",
      "  lags = lags.drop(x_columns, 1)\n",
      "/usr/local/lib/python3.8/dist-packages/statsmodels/tsa/tsatools.py:142: FutureWarning: In a future version of pandas all arguments of concat except for the argument 'objs' will be keyword-only\n",
      "  x = pd.concat(x[::order], 1)\n",
      "/usr/local/lib/python3.8/dist-packages/statsmodels/tsa/tsatools.py:460: FutureWarning: In a future version of pandas all arguments of DataFrame.drop except for the argument 'labels' will be keyword-only\n",
      "  lags = lags.drop(x_columns, 1)\n",
      "/usr/local/lib/python3.8/dist-packages/statsmodels/tsa/tsatools.py:460: FutureWarning: In a future version of pandas all arguments of DataFrame.drop except for the argument 'labels' will be keyword-only\n",
      "  lags = lags.drop(x_columns, 1)\n",
      "/usr/local/lib/python3.8/dist-packages/statsmodels/tsa/tsatools.py:142: FutureWarning: In a future version of pandas all arguments of concat except for the argument 'objs' will be keyword-only\n",
      "  x = pd.concat(x[::order], 1)\n",
      "/usr/local/lib/python3.8/dist-packages/statsmodels/tsa/tsatools.py:460: FutureWarning: In a future version of pandas all arguments of DataFrame.drop except for the argument 'labels' will be keyword-only\n",
      "  lags = lags.drop(x_columns, 1)\n",
      "/usr/local/lib/python3.8/dist-packages/statsmodels/tsa/tsatools.py:460: FutureWarning: In a future version of pandas all arguments of DataFrame.drop except for the argument 'labels' will be keyword-only\n",
      "  lags = lags.drop(x_columns, 1)\n",
      "/usr/local/lib/python3.8/dist-packages/statsmodels/tsa/tsatools.py:142: FutureWarning: In a future version of pandas all arguments of concat except for the argument 'objs' will be keyword-only\n",
      "  x = pd.concat(x[::order], 1)\n"
     ]
    },
    {
     "data": {
      "image/png": "[encoded data removed]",
      "text/plain": [
       "<Figure size 1080x432 with 6 Axes>"
      ]
     },
     "metadata": {
      "needs_background": "light"
     },
     "output_type": "display_data"
    },
    {
     "data": {
      "image/png": "[encoded data removed]",
      "text/plain": [
       "<Figure size 720x432 with 4 Axes>"
      ]
     },
     "metadata": {
      "needs_background": "light"
     },
     "output_type": "display_data"
    }
   ],
   "source": [
    "comparisonPlots(dataLogs)\n",
    "plt.show()"
   ]
  },
  {
   "cell_type": "code",
   "execution_count": 12,
   "id": "environmental-brook",
   "metadata": {
    "hidden": true
   },
   "outputs": [
    {
     "name": "stderr",
     "output_type": "stream",
     "text": [
      "/usr/local/lib/python3.8/dist-packages/statsmodels/tsa/tsatools.py:460: FutureWarning: In a future version of pandas all arguments of DataFrame.drop except for the argument 'labels' will be keyword-only\n",
      "  lags = lags.drop(x_columns, 1)\n",
      "/usr/local/lib/python3.8/dist-packages/statsmodels/tsa/tsatools.py:460: FutureWarning: In a future version of pandas all arguments of DataFrame.drop except for the argument 'labels' will be keyword-only\n",
      "  lags = lags.drop(x_columns, 1)\n",
      "/usr/local/lib/python3.8/dist-packages/statsmodels/tsa/tsatools.py:142: FutureWarning: In a future version of pandas all arguments of concat except for the argument 'objs' will be keyword-only\n",
      "  x = pd.concat(x[::order], 1)\n",
      "/usr/local/lib/python3.8/dist-packages/statsmodels/base/model.py:566: ConvergenceWarning: Maximum Likelihood optimization failed to converge. Check mle_retvals\n",
      "  warnings.warn(\"Maximum Likelihood optimization failed to \"\n",
      "/usr/local/lib/python3.8/dist-packages/statsmodels/tsa/tsatools.py:460: FutureWarning: In a future version of pandas all arguments of DataFrame.drop except for the argument 'labels' will be keyword-only\n",
      "  lags = lags.drop(x_columns, 1)\n",
      "/usr/local/lib/python3.8/dist-packages/statsmodels/tsa/tsatools.py:460: FutureWarning: In a future version of pandas all arguments of DataFrame.drop except for the argument 'labels' will be keyword-only\n",
      "  lags = lags.drop(x_columns, 1)\n",
      "/usr/local/lib/python3.8/dist-packages/statsmodels/tsa/tsatools.py:142: FutureWarning: In a future version of pandas all arguments of concat except for the argument 'objs' will be keyword-only\n",
      "  x = pd.concat(x[::order], 1)\n",
      "/usr/local/lib/python3.8/dist-packages/statsmodels/tsa/tsatools.py:460: FutureWarning: In a future version of pandas all arguments of DataFrame.drop except for the argument 'labels' will be keyword-only\n",
      "  lags = lags.drop(x_columns, 1)\n",
      "/usr/local/lib/python3.8/dist-packages/statsmodels/tsa/tsatools.py:460: FutureWarning: In a future version of pandas all arguments of DataFrame.drop except for the argument 'labels' will be keyword-only\n",
      "  lags = lags.drop(x_columns, 1)\n",
      "/usr/local/lib/python3.8/dist-packages/statsmodels/tsa/tsatools.py:142: FutureWarning: In a future version of pandas all arguments of concat except for the argument 'objs' will be keyword-only\n",
      "  x = pd.concat(x[::order], 1)\n",
      "/usr/local/lib/python3.8/dist-packages/statsmodels/tsa/tsatools.py:460: FutureWarning: In a future version of pandas all arguments of DataFrame.drop except for the argument 'labels' will be keyword-only\n",
      "  lags = lags.drop(x_columns, 1)\n",
      "/usr/local/lib/python3.8/dist-packages/statsmodels/tsa/tsatools.py:460: FutureWarning: In a future version of pandas all arguments of DataFrame.drop except for the argument 'labels' will be keyword-only\n",
      "  lags = lags.drop(x_columns, 1)\n",
      "/usr/local/lib/python3.8/dist-packages/statsmodels/tsa/tsatools.py:142: FutureWarning: In a future version of pandas all arguments of concat except for the argument 'objs' will be keyword-only\n",
      "  x = pd.concat(x[::order], 1)\n",
      "/usr/local/lib/python3.8/dist-packages/statsmodels/tsa/tsatools.py:460: FutureWarning: In a future version of pandas all arguments of DataFrame.drop except for the argument 'labels' will be keyword-only\n",
      "  lags = lags.drop(x_columns, 1)\n",
      "/usr/local/lib/python3.8/dist-packages/statsmodels/tsa/tsatools.py:460: FutureWarning: In a future version of pandas all arguments of DataFrame.drop except for the argument 'labels' will be keyword-only\n",
      "  lags = lags.drop(x_columns, 1)\n",
      "/usr/local/lib/python3.8/dist-packages/statsmodels/tsa/tsatools.py:142: FutureWarning: In a future version of pandas all arguments of concat except for the argument 'objs' will be keyword-only\n",
      "  x = pd.concat(x[::order], 1)\n"
     ]
    },
    {
     "data": {
      "image/png": "[encoded data removed]",
      "text/plain": [
       "<Figure size 864x216 with 2 Axes>"
      ]
     },
     "metadata": {
      "needs_background": "light"
     },
     "output_type": "display_data"
    },
    {
     "data": {
      "image/png": "[encoded data removed]",
      "text/plain": [
       "<Figure size 864x216 with 2 Axes>"
      ]
     },
     "metadata": {
      "needs_background": "light"
     },
     "output_type": "display_data"
    },
    {
     "data": {
      "image/png": "[encoded data removed]",
      "text/plain": [
       "<Figure size 864x216 with 1 Axes>"
      ]
     },
     "metadata": {
      "needs_background": "light"
     },
     "output_type": "display_data"
    }
   ],
   "source": [
    "markovRegimeSwitchingPlots(data)\n",
    "plt.show()"
   ]
  },
  {
   "cell_type": "markdown",
   "id": "823f4639-3124-4242-9ba9-940aba2767f3",
   "metadata": {
    "heading_collapsed": true
   },
   "source": [
    "## Covergence in subsamples"
   ]
  },
  {
   "cell_type": "code",
   "execution_count": 13,
   "id": "0ddf64bd-b9d7-4423-82dc-27a35a6682b1",
   "metadata": {},
   "outputs": [],
   "source": [
    "countries = dataLogs.columns"
   ]
  },
  {
   "cell_type": "code",
   "execution_count": 14,
   "id": "ec018775-a914-4341-8c90-e1e66651c1f1",
   "metadata": {},
   "outputs": [],
   "source": [
    "def add_Stars(b,se,lags):\n",
    "    tstat = pd.DataFrame((b-1)/se)\n",
    "    pval = tstat.applymap(lambda x: sm.tsa.adfvalues.mackinnonp(x,regression='c',N=1,lags=lags))\n",
    "    stars = pval.applymap(lambda x: '***' if x <= 0.01 else '**' if x <= 0.05 else '*' if x <= 0.1 else '')\n",
    "    table = pd.DataFrame(b).round(2).astype(str) + stars\n",
    "    return table"
   ]
  },
  {
   "cell_type": "code",
   "execution_count": 15,
   "id": "5c297ea5-5533-4735-8679-c52f5aff664b",
   "metadata": {},
   "outputs": [],
   "source": [
    "def createTable(results,modelname,coeffnames,lags):\n",
    "    idx = pd.MultiIndex.from_product([modelname,coeffnames],names=('model','coef'))\n",
    "    table = pd.DataFrame(index=idx)\n",
    "    for c, country in enumerate(countries):\n",
    "        cell = add_Stars(results[c].params[coeffnames]+1,results[c].bse[coeffnames],lags)\n",
    "        table = table.join(pd.DataFrame(cell.values,index=idx,columns=[country]))\n",
    "    return table"
   ]
  },
  {
   "cell_type": "markdown",
   "id": "42c9d3ad-d72e-4939-a262-19862369499f",
   "metadata": {
    "heading_collapsed": true,
    "hidden": true
   },
   "source": [
    "### Optimal lag length"
   ]
  },
  {
   "cell_type": "markdown",
   "id": "28f9309b-4364-4244-b7ea-c3562fe8195d",
   "metadata": {},
   "source": [
    "#### ADF test with constant"
   ]
  },
  {
   "cell_type": "code",
   "execution_count": 16,
   "id": "a07fff12-87d2-4053-8b4d-c0474e1788ad",
   "metadata": {
    "hidden": true
   },
   "outputs": [
    {
     "name": "stderr",
     "output_type": "stream",
     "text": [
      "/usr/local/lib/python3.8/dist-packages/statsmodels/tsa/tsatools.py:142: FutureWarning: In a future version of pandas all arguments of concat except for the argument 'objs' will be keyword-only\n",
      "  x = pd.concat(x[::order], 1)\n"
     ]
    }
   ],
   "source": [
    "# ADF test with constant\n",
    "ADF_aic_ct = np.full((len(countries),12),np.nan)\n",
    "ADF_bic_ct = np.full((len(countries),12),np.nan)\n",
    "for ic,country in enumerate(countries):\n",
    "    diff = dataLogs[country].diff(1)\n",
    "    for l in range(1,12+1):\n",
    "        d_y = diff[1+l:]\n",
    "        y_1 = dataLogs[country].shift(1).rename('Level.L1')\n",
    "        d_y_lags = pd.DataFrame(lagmat(diff, maxlag=l), index=diff.index,\n",
    "                                columns=['Diff.L'+str(i) for i in range(1, l+1)])\n",
    "        X = sma.add_constant(pd.concat([y_1, d_y_lags], axis=1))[1+l:]\n",
    "        res = OLS(d_y, exog=X).fit()\n",
    "        ADF_aic_ct[ic,l-1] = res.aic\n",
    "        ADF_bic_ct[ic,l-1] = res.bic"
   ]
  },
  {
   "cell_type": "code",
   "execution_count": 17,
   "id": "3d4c2cbb-82ee-4da0-916b-e22e4376926f",
   "metadata": {},
   "outputs": [],
   "source": [
    "ADF_aic_ct_df = pd.DataFrame(data=ADF_aic_ct,index=countries,columns=range(1,12+1))\n",
    "ADF_bic_ct_df = pd.DataFrame(data=ADF_bic_ct,index=countries,columns=range(1,12+1))"
   ]
  },
  {
   "cell_type": "code",
   "execution_count": 18,
   "id": "8eebdafe-0bdc-4323-ab3d-54fa80d0962c",
   "metadata": {},
   "outputs": [
    {
     "data": {
      "image/png": "[encoded data removed]",
      "text/plain": [
       "<Figure size 864x360 with 2 Axes>"
      ]
     },
     "metadata": {
      "needs_background": "light"
     },
     "output_type": "display_data"
    }
   ],
   "source": [
    "fig, axes = plt.subplots(1,2,figsize=(12,5))\n",
    "for country in countries:\n",
    "    axes[0].plot(range(1,12+1),ADF_aic_ct_df.loc[country,:], label=country)\n",
    "    axes[1].plot(range(1,12+1),ADF_bic_ct_df.loc[country,:], label=country)\n",
    "axes[0].set_xlabel('lags')\n",
    "axes[1].set_xlabel('lags')\n",
    "axes[0].set_xticks(range(1,12+1))\n",
    "axes[1].set_xticks(range(1,12+1))\n",
    "axes[0].set_title('aic')\n",
    "axes[1].set_title('bic')\n",
    "axes[1].legend()\n",
    "fig.suptitle('ADF with constant');"
   ]
  },
  {
   "cell_type": "markdown",
   "id": "8cb056ee-0838-4f76-9e50-31a496266f97",
   "metadata": {},
   "source": [
    "#### ADF test with trend"
   ]
  },
  {
   "cell_type": "code",
   "execution_count": 19,
   "id": "4ba2d280-4399-4e60-89f9-02f3be1e0602",
   "metadata": {
    "hidden": true
   },
   "outputs": [
    {
     "name": "stderr",
     "output_type": "stream",
     "text": [
      "/usr/local/lib/python3.8/dist-packages/statsmodels/tsa/tsatools.py:142: FutureWarning: In a future version of pandas all arguments of concat except for the argument 'objs' will be keyword-only\n",
      "  x = pd.concat(x[::order], 1)\n"
     ]
    }
   ],
   "source": [
    "# ADF test with trend\n",
    "ADF_aic_tr = np.full((len(countries),12),np.nan)\n",
    "ADF_bic_tr = np.full((len(countries),12),np.nan)\n",
    "for ic,country in enumerate(countries):\n",
    "    diff = dataLogs[country].diff(1)\n",
    "    for l in range(1,12+1):\n",
    "        d_y = diff[1+l:]\n",
    "        y_1 = dataLogs[country].shift(1).rename('Level.L1')\n",
    "        d_y_lags = pd.DataFrame(lagmat(diff, maxlag=l), index=diff.index,\n",
    "                                columns=['Diff.L'+str(i) for i in range(1, l+1)])\n",
    "        X = add_trend(pd.concat([y_1, d_y_lags], axis=1), 'ct')[1+l:]\n",
    "        res = OLS(d_y, exog=X).fit()\n",
    "        ADF_aic_tr[ic,l-1] = res.aic\n",
    "        ADF_bic_tr[ic,l-1] = res.bic"
   ]
  },
  {
   "cell_type": "code",
   "execution_count": 20,
   "id": "fb0c1242-eeee-427d-ae74-4ff2f23333c5",
   "metadata": {},
   "outputs": [],
   "source": [
    "ADF_aic_tr_df = pd.DataFrame(data=ADF_aic_tr,index=countries,columns=range(1,12+1))\n",
    "ADF_bic_tr_df = pd.DataFrame(data=ADF_bic_tr,index=countries,columns=range(1,12+1))"
   ]
  },
  {
   "cell_type": "code",
   "execution_count": 21,
   "id": "77cb3e74-a5bc-4449-b07d-036b8a325f64",
   "metadata": {},
   "outputs": [
    {
     "data": {
      "image/png": "[encoded data removed]",
      "text/plain": [
       "<Figure size 864x360 with 2 Axes>"
      ]
     },
     "metadata": {
      "needs_background": "light"
     },
     "output_type": "display_data"
    }
   ],
   "source": [
    "fig, axes = plt.subplots(1,2,figsize=(12,5))\n",
    "for country in countries:\n",
    "    axes[0].plot(range(1,12+1),ADF_aic_tr_df.loc[country,:], label=country)\n",
    "    axes[1].plot(range(1,12+1),ADF_bic_tr_df.loc[country,:], label=country)\n",
    "axes[0].set_xlabel('lags')\n",
    "axes[1].set_xlabel('lags')\n",
    "axes[0].set_xticks(range(1,12+1))\n",
    "axes[1].set_xticks(range(1,12+1))\n",
    "axes[0].set_title('aic')\n",
    "axes[1].set_title('bic')\n",
    "axes[1].legend()\n",
    "fig.suptitle('ADF with trend');"
   ]
  },
  {
   "cell_type": "markdown",
   "id": "c5e898b5-04d1-4a26-98a3-a1cb47c061f3",
   "metadata": {
    "heading_collapsed": true,
    "hidden": true
   },
   "source": [
    "### Set lags"
   ]
  },
  {
   "cell_type": "code",
   "execution_count": 22,
   "id": "4727239d-681c-4171-a24a-1f9faef01586",
   "metadata": {},
   "outputs": [],
   "source": [
    "lags = 2"
   ]
  },
  {
   "cell_type": "markdown",
   "id": "fc783c4e-7b24-4292-95cf-1199e5fb0681",
   "metadata": {
    "heading_collapsed": true,
    "hidden": true
   },
   "source": [
    "### Unit root tests the whole sample"
   ]
  },
  {
   "cell_type": "markdown",
   "id": "0c5e975f-a810-491f-a4fc-f9de2bcc6923",
   "metadata": {},
   "source": [
    "#### ADF test with constant"
   ]
  },
  {
   "cell_type": "code",
   "execution_count": 23,
   "id": "751bfcb4-7524-466c-9364-faafbb9ee06b",
   "metadata": {
    "hidden": true
   },
   "outputs": [
    {
     "name": "stderr",
     "output_type": "stream",
     "text": [
      "/usr/local/lib/python3.8/dist-packages/statsmodels/tsa/tsatools.py:142: FutureWarning: In a future version of pandas all arguments of concat except for the argument 'objs' will be keyword-only\n",
      "  x = pd.concat(x[::order], 1)\n"
     ]
    }
   ],
   "source": [
    "# ADF test with constant\n",
    "ADF_res_ct = []\n",
    "for country in countries:\n",
    "    diff = dataLogs[country].diff(1)\n",
    "    d_y = diff[1+lags:]\n",
    "    y_1 = dataLogs[country].shift(1).rename('Level.L1')\n",
    "    d_y_lags = pd.DataFrame(lagmat(diff, maxlag=lags), index=diff.index,\n",
    "                            columns=['Diff.L'+str(i) for i in range(1, lags+1)])\n",
    "    X = sma.add_constant(pd.concat([y_1, d_y_lags], axis=1))[1+lags:]\n",
    "    res = OLS(d_y, exog=X).fit()\n",
    "    ADF_res_ct.append(res)"
   ]
  },
  {
   "cell_type": "code",
   "execution_count": 24,
   "id": "af9cb952-9e7b-4580-9780-5f4c5fa9329b",
   "metadata": {},
   "outputs": [
    {
     "data": {
      "text/html": [
       "<div>\n",
       "<style scoped>\n",
       "    .dataframe tbody tr th:only-of-type {\n",
       "        vertical-align: middle;\n",
       "    }\n",
       "\n",
       "    .dataframe tbody tr th {\n",
       "        vertical-align: top;\n",
       "    }\n",
       "\n",
       "    .dataframe thead th {\n",
       "        text-align: right;\n",
       "    }\n",
       "</style>\n",
       "<table border=\"1\" class=\"dataframe\">\n",
       "  <thead>\n",
       "    <tr style=\"text-align: right;\">\n",
       "      <th></th>\n",
       "      <th></th>\n",
       "      <th>Armenia</th>\n",
       "      <th>Belarus</th>\n",
       "      <th>Kazakhstan</th>\n",
       "      <th>Kyrgyz Republic</th>\n",
       "      <th>Russian Federation</th>\n",
       "    </tr>\n",
       "    <tr>\n",
       "      <th>model</th>\n",
       "      <th>coef</th>\n",
       "      <th></th>\n",
       "      <th></th>\n",
       "      <th></th>\n",
       "      <th></th>\n",
       "      <th></th>\n",
       "    </tr>\n",
       "  </thead>\n",
       "  <tbody>\n",
       "    <tr>\n",
       "      <th>all</th>\n",
       "      <th>Level.L1</th>\n",
       "      <td>0.99</td>\n",
       "      <td>0.99</td>\n",
       "      <td>0.98</td>\n",
       "      <td>0.97</td>\n",
       "      <td>0.97**</td>\n",
       "    </tr>\n",
       "  </tbody>\n",
       "</table>\n",
       "</div>"
      ],
      "text/plain": [
       "               Armenia Belarus Kazakhstan Kyrgyz Republic Russian Federation\n",
       "model coef                                                                  \n",
       "all   Level.L1    0.99    0.99       0.98            0.97             0.97**"
      ]
     },
     "execution_count": 24,
     "metadata": {},
     "output_type": "execute_result"
    }
   ],
   "source": [
    "table_ct = createTable(ADF_res_ct,['all'],['Level.L1'],lags)\n",
    "table_ct"
   ]
  },
  {
   "cell_type": "markdown",
   "id": "da513902-8727-4890-95b1-488060501dcb",
   "metadata": {
    "heading_collapsed": true,
    "hidden": true
   },
   "source": [
    "#### ADF with trend"
   ]
  },
  {
   "cell_type": "code",
   "execution_count": 25,
   "id": "fecc0ef7-3519-4a82-b040-e1af34e2e32e",
   "metadata": {
    "hidden": true
   },
   "outputs": [
    {
     "name": "stderr",
     "output_type": "stream",
     "text": [
      "/usr/local/lib/python3.8/dist-packages/statsmodels/tsa/tsatools.py:142: FutureWarning: In a future version of pandas all arguments of concat except for the argument 'objs' will be keyword-only\n",
      "  x = pd.concat(x[::order], 1)\n"
     ]
    }
   ],
   "source": [
    "# ADF test with trend\n",
    "ADF_res_tr = []\n",
    "for country in countries:\n",
    "    diff = dataLogs[country].diff(1)\n",
    "    d_y = diff[1+lags:]\n",
    "    y_1 = dataLogs[country].shift(1).rename('Level.L1')\n",
    "    d_y_lags = pd.DataFrame(lagmat(diff, maxlag=lags), index=diff.index,\n",
    "                            columns=['Diff.L'+str(i) for i in range(1, lags+1)])\n",
    "    X = add_trend(pd.concat([y_1, d_y_lags], axis=1), 'ct')[1+lags:]\n",
    "    res = OLS(d_y, exog=X).fit()\n",
    "    ADF_res_tr.append(res)"
   ]
  },
  {
   "cell_type": "code",
   "execution_count": 26,
   "id": "a5b289a5-6856-470b-96c8-cf1957bfe79a",
   "metadata": {},
   "outputs": [
    {
     "data": {
      "text/html": [
       "<div>\n",
       "<style scoped>\n",
       "    .dataframe tbody tr th:only-of-type {\n",
       "        vertical-align: middle;\n",
       "    }\n",
       "\n",
       "    .dataframe tbody tr th {\n",
       "        vertical-align: top;\n",
       "    }\n",
       "\n",
       "    .dataframe thead th {\n",
       "        text-align: right;\n",
       "    }\n",
       "</style>\n",
       "<table border=\"1\" class=\"dataframe\">\n",
       "  <thead>\n",
       "    <tr style=\"text-align: right;\">\n",
       "      <th></th>\n",
       "      <th></th>\n",
       "      <th>Armenia</th>\n",
       "      <th>Belarus</th>\n",
       "      <th>Kazakhstan</th>\n",
       "      <th>Kyrgyz Republic</th>\n",
       "      <th>Russian Federation</th>\n",
       "    </tr>\n",
       "    <tr>\n",
       "      <th>model</th>\n",
       "      <th>coef</th>\n",
       "      <th></th>\n",
       "      <th></th>\n",
       "      <th></th>\n",
       "      <th></th>\n",
       "      <th></th>\n",
       "    </tr>\n",
       "  </thead>\n",
       "  <tbody>\n",
       "    <tr>\n",
       "      <th>all</th>\n",
       "      <th>Level.L1</th>\n",
       "      <td>0.98</td>\n",
       "      <td>0.9**</td>\n",
       "      <td>0.98</td>\n",
       "      <td>0.97</td>\n",
       "      <td>0.98</td>\n",
       "    </tr>\n",
       "  </tbody>\n",
       "</table>\n",
       "</div>"
      ],
      "text/plain": [
       "               Armenia Belarus Kazakhstan Kyrgyz Republic Russian Federation\n",
       "model coef                                                                  \n",
       "all   Level.L1    0.98   0.9**       0.98            0.97               0.98"
      ]
     },
     "execution_count": 26,
     "metadata": {},
     "output_type": "execute_result"
    }
   ],
   "source": [
    "table_tr = createTable(ADF_res_tr,['all'],['Level.L1'],lags)\n",
    "table_tr"
   ]
  },
  {
   "cell_type": "markdown",
   "id": "22cf4009-1611-4562-879b-37c2cd5b99a2",
   "metadata": {
    "heading_collapsed": true,
    "hidden": true
   },
   "source": [
    "### Unit root tests for pre- and post-EAEU periods"
   ]
  },
  {
   "cell_type": "markdown",
   "id": "2deb116c-53bb-44ea-ba48-5c261a3be555",
   "metadata": {},
   "source": [
    "#### ADF test with constant"
   ]
  },
  {
   "cell_type": "markdown",
   "id": "649dec14-609e-4875-bd99-9e0b115bbdb7",
   "metadata": {},
   "source": [
    "##### ADF test with dummies"
   ]
  },
  {
   "cell_type": "code",
   "execution_count": 27,
   "id": "cbaa059f-77b7-4db6-9c2e-a032a09716d0",
   "metadata": {
    "hidden": true
   },
   "outputs": [
    {
     "name": "stderr",
     "output_type": "stream",
     "text": [
      "/usr/local/lib/python3.8/dist-packages/statsmodels/tsa/tsatools.py:142: FutureWarning: In a future version of pandas all arguments of concat except for the argument 'objs' will be keyword-only\n",
      "  x = pd.concat(x[::order], 1)\n"
     ]
    }
   ],
   "source": [
    "# ADF test with constant and pre- and post-EAEU dummies\n",
    "ADF_res_pre_post_ct = []\n",
    "for country in countries:\n",
    "    diff = dataLogs[country].diff(1)\n",
    "    d_y = diff[1+lags:]\n",
    "    EAEU = (dataLogs.index > '2015-01-01').astype(int)\n",
    "    y_1 = dataLogs[country].shift(1).rename('Level.L1')\n",
    "    y_1_post = pd.DataFrame(y_1*EAEU).add_suffix('_post')\n",
    "    y_1_pre =  pd.DataFrame(y_1*(1-EAEU)).add_suffix('_pre')\n",
    "    d_y_lags = pd.DataFrame(lagmat(diff, maxlag=lags), index=diff.index,\n",
    "                            columns=['Diff.L'+str(i) for i in range(1, lags+1)])\n",
    "    X = sma.add_constant(pd.concat([y_1_pre, y_1_post, d_y_lags], axis=1))[1+lags:]\n",
    "    res = OLS(d_y, exog=X).fit()\n",
    "    ADF_res_pre_post_ct.append(res)"
   ]
  },
  {
   "cell_type": "code",
   "execution_count": 28,
   "id": "02eb3991-6150-4a97-9894-4256dd122efb",
   "metadata": {},
   "outputs": [
    {
     "data": {
      "text/html": [
       "<div>\n",
       "<style scoped>\n",
       "    .dataframe tbody tr th:only-of-type {\n",
       "        vertical-align: middle;\n",
       "    }\n",
       "\n",
       "    .dataframe tbody tr th {\n",
       "        vertical-align: top;\n",
       "    }\n",
       "\n",
       "    .dataframe thead th {\n",
       "        text-align: right;\n",
       "    }\n",
       "</style>\n",
       "<table border=\"1\" class=\"dataframe\">\n",
       "  <thead>\n",
       "    <tr style=\"text-align: right;\">\n",
       "      <th></th>\n",
       "      <th></th>\n",
       "      <th>Armenia</th>\n",
       "      <th>Belarus</th>\n",
       "      <th>Kazakhstan</th>\n",
       "      <th>Kyrgyz Republic</th>\n",
       "      <th>Russian Federation</th>\n",
       "    </tr>\n",
       "    <tr>\n",
       "      <th>model</th>\n",
       "      <th>coef</th>\n",
       "      <th></th>\n",
       "      <th></th>\n",
       "      <th></th>\n",
       "      <th></th>\n",
       "      <th></th>\n",
       "    </tr>\n",
       "  </thead>\n",
       "  <tbody>\n",
       "    <tr>\n",
       "      <th rowspan=\"2\" valign=\"top\">pre-post</th>\n",
       "      <th>Level.L1_pre</th>\n",
       "      <td>0.99</td>\n",
       "      <td>0.96</td>\n",
       "      <td>0.95***</td>\n",
       "      <td>0.98</td>\n",
       "      <td>0.97**</td>\n",
       "    </tr>\n",
       "    <tr>\n",
       "      <th>Level.L1_post</th>\n",
       "      <td>0.99</td>\n",
       "      <td>0.96</td>\n",
       "      <td>0.95***</td>\n",
       "      <td>0.98</td>\n",
       "      <td>0.97**</td>\n",
       "    </tr>\n",
       "  </tbody>\n",
       "</table>\n",
       "</div>"
      ],
      "text/plain": [
       "                       Armenia Belarus Kazakhstan Kyrgyz Republic  \\\n",
       "model    coef                                                       \n",
       "pre-post Level.L1_pre     0.99    0.96    0.95***            0.98   \n",
       "         Level.L1_post    0.99    0.96    0.95***            0.98   \n",
       "\n",
       "                       Russian Federation  \n",
       "model    coef                              \n",
       "pre-post Level.L1_pre              0.97**  \n",
       "         Level.L1_post             0.97**  "
      ]
     },
     "execution_count": 28,
     "metadata": {},
     "output_type": "execute_result"
    }
   ],
   "source": [
    "table_pre_post_ct = createTable(ADF_res_pre_post_ct,['pre-post'],['Level.L1_pre','Level.L1_post'],lags)\n",
    "table_pre_post_ct"
   ]
  },
  {
   "cell_type": "code",
   "execution_count": 29,
   "id": "9d4900f5-05d4-4a5b-8848-475222070797",
   "metadata": {
    "hidden": true
   },
   "outputs": [],
   "source": [
    "# # ADF test with post-EAEU dummy (Level.L1_post: beta_1 - beta_2 version)\n",
    "# X = sma.add_constant(pd.concat([y_1, y_1_post, d_y_lags], axis=1))[1+lags:]\n",
    "# res = OLS(d_y, exog=X).fit()\n",
    "# res.summary()"
   ]
  },
  {
   "cell_type": "markdown",
   "id": "compliant-reward",
   "metadata": {
    "heading_collapsed": true,
    "hidden": true
   },
   "source": [
    "##### ADF test in subsmaples"
   ]
  },
  {
   "cell_type": "code",
   "execution_count": 30,
   "id": "f2f3d840-dfd8-4d54-b103-61894dc01cbc",
   "metadata": {},
   "outputs": [
    {
     "name": "stderr",
     "output_type": "stream",
     "text": [
      "/usr/local/lib/python3.8/dist-packages/statsmodels/tsa/tsatools.py:142: FutureWarning: In a future version of pandas all arguments of concat except for the argument 'objs' will be keyword-only\n",
      "  x = pd.concat(x[::order], 1)\n"
     ]
    }
   ],
   "source": [
    "# ADF test with constant in pre- and post-EAEU samples\n",
    "ADF_res_pre_ct = []\n",
    "ADF_res_post_ct = []\n",
    "for country in countries:\n",
    "    diff = dataLogs[country].diff(1)\n",
    "    d_y = diff[1+lags:]\n",
    "    y_1 = dataLogs[country].shift(1).rename('Level.L1')\n",
    "    d_y_lags = pd.DataFrame(lagmat(diff, maxlag=lags), index=diff.index,\n",
    "                            columns=['Diff.L'+str(i) for i in range(1, lags+1)])\n",
    "    X = sma.add_constant(pd.concat([y_1, d_y_lags], axis=1))[1+lags:]\n",
    "    # pre-EAEU\n",
    "    res = OLS(d_y[:'2015-01-01'], exog=X[:'2015-01-01']).fit()\n",
    "    ADF_res_pre_ct.append(res)\n",
    "    # post-EAEU\n",
    "    res = OLS(d_y['2015-01-01':], exog=X['2015-01-01':]).fit()\n",
    "    ADF_res_post_ct.append(res)"
   ]
  },
  {
   "cell_type": "code",
   "execution_count": 31,
   "id": "994bc5ee-144d-4cf9-84d0-5ca3e86336de",
   "metadata": {},
   "outputs": [
    {
     "data": {
      "text/html": [
       "<div>\n",
       "<style scoped>\n",
       "    .dataframe tbody tr th:only-of-type {\n",
       "        vertical-align: middle;\n",
       "    }\n",
       "\n",
       "    .dataframe tbody tr th {\n",
       "        vertical-align: top;\n",
       "    }\n",
       "\n",
       "    .dataframe thead th {\n",
       "        text-align: right;\n",
       "    }\n",
       "</style>\n",
       "<table border=\"1\" class=\"dataframe\">\n",
       "  <thead>\n",
       "    <tr style=\"text-align: right;\">\n",
       "      <th></th>\n",
       "      <th></th>\n",
       "      <th>Armenia</th>\n",
       "      <th>Belarus</th>\n",
       "      <th>Kazakhstan</th>\n",
       "      <th>Kyrgyz Republic</th>\n",
       "      <th>Russian Federation</th>\n",
       "    </tr>\n",
       "    <tr>\n",
       "      <th>model</th>\n",
       "      <th>coef</th>\n",
       "      <th></th>\n",
       "      <th></th>\n",
       "      <th></th>\n",
       "      <th></th>\n",
       "      <th></th>\n",
       "    </tr>\n",
       "  </thead>\n",
       "  <tbody>\n",
       "    <tr>\n",
       "      <th>pre</th>\n",
       "      <th>Level.L1</th>\n",
       "      <td>0.99</td>\n",
       "      <td>0.97</td>\n",
       "      <td>0.98</td>\n",
       "      <td>0.98</td>\n",
       "      <td>0.98</td>\n",
       "    </tr>\n",
       "  </tbody>\n",
       "</table>\n",
       "</div>"
      ],
      "text/plain": [
       "               Armenia Belarus Kazakhstan Kyrgyz Republic Russian Federation\n",
       "model coef                                                                  \n",
       "pre   Level.L1    0.99    0.97       0.98            0.98               0.98"
      ]
     },
     "execution_count": 31,
     "metadata": {},
     "output_type": "execute_result"
    }
   ],
   "source": [
    "table_pre_ct = createTable(ADF_res_pre_ct,['pre'],['Level.L1'],lags)\n",
    "table_pre_ct"
   ]
  },
  {
   "cell_type": "code",
   "execution_count": 32,
   "id": "40f73845-c8e6-4811-866a-044d5539d526",
   "metadata": {},
   "outputs": [
    {
     "data": {
      "text/html": [
       "<div>\n",
       "<style scoped>\n",
       "    .dataframe tbody tr th:only-of-type {\n",
       "        vertical-align: middle;\n",
       "    }\n",
       "\n",
       "    .dataframe tbody tr th {\n",
       "        vertical-align: top;\n",
       "    }\n",
       "\n",
       "    .dataframe thead th {\n",
       "        text-align: right;\n",
       "    }\n",
       "</style>\n",
       "<table border=\"1\" class=\"dataframe\">\n",
       "  <thead>\n",
       "    <tr style=\"text-align: right;\">\n",
       "      <th></th>\n",
       "      <th></th>\n",
       "      <th>Armenia</th>\n",
       "      <th>Belarus</th>\n",
       "      <th>Kazakhstan</th>\n",
       "      <th>Kyrgyz Republic</th>\n",
       "      <th>Russian Federation</th>\n",
       "    </tr>\n",
       "    <tr>\n",
       "      <th>model</th>\n",
       "      <th>coef</th>\n",
       "      <th></th>\n",
       "      <th></th>\n",
       "      <th></th>\n",
       "      <th></th>\n",
       "      <th></th>\n",
       "    </tr>\n",
       "  </thead>\n",
       "  <tbody>\n",
       "    <tr>\n",
       "      <th>post</th>\n",
       "      <th>Level.L1</th>\n",
       "      <td>0.99</td>\n",
       "      <td>0.74***</td>\n",
       "      <td>0.93*</td>\n",
       "      <td>0.94</td>\n",
       "      <td>0.83*</td>\n",
       "    </tr>\n",
       "  </tbody>\n",
       "</table>\n",
       "</div>"
      ],
      "text/plain": [
       "               Armenia  Belarus Kazakhstan Kyrgyz Republic Russian Federation\n",
       "model coef                                                                   \n",
       "post  Level.L1    0.99  0.74***      0.93*            0.94              0.83*"
      ]
     },
     "execution_count": 32,
     "metadata": {},
     "output_type": "execute_result"
    }
   ],
   "source": [
    "table_post_ct = createTable(ADF_res_post_ct,['post'],['Level.L1'],lags)\n",
    "table_post_ct"
   ]
  },
  {
   "cell_type": "markdown",
   "id": "faced-pioneer",
   "metadata": {
    "heading_collapsed": true,
    "hidden": true
   },
   "source": [
    "#### ADF with trend"
   ]
  },
  {
   "cell_type": "markdown",
   "id": "f7762c85-64f4-499a-9c01-351ad28b1c5f",
   "metadata": {},
   "source": [
    "##### ADF test with dummies"
   ]
  },
  {
   "cell_type": "code",
   "execution_count": 33,
   "id": "ee0b1f06-05a8-48da-8f73-2a114fea0ea8",
   "metadata": {
    "hidden": true
   },
   "outputs": [
    {
     "name": "stderr",
     "output_type": "stream",
     "text": [
      "/usr/local/lib/python3.8/dist-packages/statsmodels/tsa/tsatools.py:142: FutureWarning: In a future version of pandas all arguments of concat except for the argument 'objs' will be keyword-only\n",
      "  x = pd.concat(x[::order], 1)\n"
     ]
    }
   ],
   "source": [
    "# ADF test with trend and pre- and post-EAEU dummies\n",
    "ADF_res_pre_post_tr = []\n",
    "for country in countries:\n",
    "    diff = dataLogs[country].diff(1)\n",
    "    d_y = diff[1+lags:]\n",
    "    EAEU = (dataLogs.index > '2015-01-01').astype(int)\n",
    "    y_1 = dataLogs[country].shift(1).rename('Level.L1')\n",
    "    y_1_post = pd.DataFrame(y_1*EAEU).add_suffix('_post')\n",
    "    y_1_pre =  pd.DataFrame(y_1*(1-EAEU)).add_suffix('_pre')\n",
    "    d_y_lags = pd.DataFrame(lagmat(diff, maxlag=lags), index=diff.index,\n",
    "                            columns=['Diff.L'+str(i) for i in range(1, lags+1)])\n",
    "    X = add_trend(pd.concat([y_1_pre, y_1_post, d_y_lags], axis=1), 'ct')[1+lags:]\n",
    "    res = OLS(d_y, exog=X).fit()\n",
    "    ADF_res_pre_post_tr.append(res)"
   ]
  },
  {
   "cell_type": "code",
   "execution_count": 34,
   "id": "d0e7e1bd-290b-465c-ac6a-b3218afd8862",
   "metadata": {},
   "outputs": [
    {
     "data": {
      "text/html": [
       "<div>\n",
       "<style scoped>\n",
       "    .dataframe tbody tr th:only-of-type {\n",
       "        vertical-align: middle;\n",
       "    }\n",
       "\n",
       "    .dataframe tbody tr th {\n",
       "        vertical-align: top;\n",
       "    }\n",
       "\n",
       "    .dataframe thead th {\n",
       "        text-align: right;\n",
       "    }\n",
       "</style>\n",
       "<table border=\"1\" class=\"dataframe\">\n",
       "  <thead>\n",
       "    <tr style=\"text-align: right;\">\n",
       "      <th></th>\n",
       "      <th></th>\n",
       "      <th>Armenia</th>\n",
       "      <th>Belarus</th>\n",
       "      <th>Kazakhstan</th>\n",
       "      <th>Kyrgyz Republic</th>\n",
       "      <th>Russian Federation</th>\n",
       "    </tr>\n",
       "    <tr>\n",
       "      <th>model</th>\n",
       "      <th>coef</th>\n",
       "      <th></th>\n",
       "      <th></th>\n",
       "      <th></th>\n",
       "      <th></th>\n",
       "      <th></th>\n",
       "    </tr>\n",
       "  </thead>\n",
       "  <tbody>\n",
       "    <tr>\n",
       "      <th rowspan=\"2\" valign=\"top\">pre-post</th>\n",
       "      <th>Level.L1_pre</th>\n",
       "      <td>0.97</td>\n",
       "      <td>0.9**</td>\n",
       "      <td>0.93***</td>\n",
       "      <td>0.94*</td>\n",
       "      <td>0.98</td>\n",
       "    </tr>\n",
       "    <tr>\n",
       "      <th>Level.L1_post</th>\n",
       "      <td>0.97</td>\n",
       "      <td>0.9**</td>\n",
       "      <td>0.92***</td>\n",
       "      <td>0.94*</td>\n",
       "      <td>0.98</td>\n",
       "    </tr>\n",
       "  </tbody>\n",
       "</table>\n",
       "</div>"
      ],
      "text/plain": [
       "                       Armenia Belarus Kazakhstan Kyrgyz Republic  \\\n",
       "model    coef                                                       \n",
       "pre-post Level.L1_pre     0.97   0.9**    0.93***           0.94*   \n",
       "         Level.L1_post    0.97   0.9**    0.92***           0.94*   \n",
       "\n",
       "                       Russian Federation  \n",
       "model    coef                              \n",
       "pre-post Level.L1_pre                0.98  \n",
       "         Level.L1_post               0.98  "
      ]
     },
     "execution_count": 34,
     "metadata": {},
     "output_type": "execute_result"
    }
   ],
   "source": [
    "table_pre_post_tr = createTable(ADF_res_pre_post_tr,['pre-post'],['Level.L1_pre','Level.L1_post'],lags)\n",
    "table_pre_post_tr"
   ]
  },
  {
   "cell_type": "markdown",
   "id": "98f4cd10-cca2-434b-9cbf-a18850cc6fcc",
   "metadata": {
    "heading_collapsed": true,
    "hidden": true
   },
   "source": [
    "##### ADF test in subsmaples"
   ]
  },
  {
   "cell_type": "code",
   "execution_count": 35,
   "id": "bde449d7-6c60-4566-944c-b36643aef959",
   "metadata": {},
   "outputs": [
    {
     "name": "stderr",
     "output_type": "stream",
     "text": [
      "/usr/local/lib/python3.8/dist-packages/statsmodels/tsa/tsatools.py:142: FutureWarning: In a future version of pandas all arguments of concat except for the argument 'objs' will be keyword-only\n",
      "  x = pd.concat(x[::order], 1)\n"
     ]
    }
   ],
   "source": [
    "# ADF test with trend in pre- and post-EAEU samples\n",
    "ADF_res_pre_tr = []\n",
    "ADF_res_post_tr = []\n",
    "for country in countries:\n",
    "    diff = dataLogs[country].diff(1)\n",
    "    d_y = diff[1+lags:]\n",
    "    y_1 = dataLogs[country].shift(1).rename('Level.L1')\n",
    "    d_y_lags = pd.DataFrame(lagmat(diff, maxlag=lags), index=diff.index,\n",
    "                            columns=['Diff.L'+str(i) for i in range(1, lags+1)])\n",
    "    X = add_trend(pd.concat([y_1, d_y_lags], axis=1), 'ct')[1+lags:]\n",
    "    # pre-EAEU\n",
    "    res = OLS(d_y[:'2015-01-01'], exog=X[:'2015-01-01']).fit()\n",
    "    ADF_res_pre_tr.append(res)\n",
    "    # post-EAEU\n",
    "    res = OLS(d_y['2015-01-01':], exog=X['2015-01-01':]).fit()\n",
    "    ADF_res_post_tr.append(res)"
   ]
  },
  {
   "cell_type": "code",
   "execution_count": 36,
   "id": "256fede1-543c-4cb3-835a-a1a0097c15ab",
   "metadata": {},
   "outputs": [
    {
     "data": {
      "text/html": [
       "<div>\n",
       "<style scoped>\n",
       "    .dataframe tbody tr th:only-of-type {\n",
       "        vertical-align: middle;\n",
       "    }\n",
       "\n",
       "    .dataframe tbody tr th {\n",
       "        vertical-align: top;\n",
       "    }\n",
       "\n",
       "    .dataframe thead th {\n",
       "        text-align: right;\n",
       "    }\n",
       "</style>\n",
       "<table border=\"1\" class=\"dataframe\">\n",
       "  <thead>\n",
       "    <tr style=\"text-align: right;\">\n",
       "      <th></th>\n",
       "      <th></th>\n",
       "      <th>Armenia</th>\n",
       "      <th>Belarus</th>\n",
       "      <th>Kazakhstan</th>\n",
       "      <th>Kyrgyz Republic</th>\n",
       "      <th>Russian Federation</th>\n",
       "    </tr>\n",
       "    <tr>\n",
       "      <th>model</th>\n",
       "      <th>coef</th>\n",
       "      <th></th>\n",
       "      <th></th>\n",
       "      <th></th>\n",
       "      <th></th>\n",
       "      <th></th>\n",
       "    </tr>\n",
       "  </thead>\n",
       "  <tbody>\n",
       "    <tr>\n",
       "      <th>pre</th>\n",
       "      <th>Level.L1</th>\n",
       "      <td>0.96</td>\n",
       "      <td>0.9*</td>\n",
       "      <td>0.9***</td>\n",
       "      <td>0.91**</td>\n",
       "      <td>1.0</td>\n",
       "    </tr>\n",
       "  </tbody>\n",
       "</table>\n",
       "</div>"
      ],
      "text/plain": [
       "               Armenia Belarus Kazakhstan Kyrgyz Republic Russian Federation\n",
       "model coef                                                                  \n",
       "pre   Level.L1    0.96    0.9*     0.9***          0.91**                1.0"
      ]
     },
     "execution_count": 36,
     "metadata": {},
     "output_type": "execute_result"
    }
   ],
   "source": [
    "table_pre_tr = createTable(ADF_res_pre_tr,['pre'],['Level.L1'],lags)\n",
    "table_pre_tr"
   ]
  },
  {
   "cell_type": "code",
   "execution_count": 37,
   "id": "a850b099-3823-40c2-a3b0-76154163c3de",
   "metadata": {},
   "outputs": [
    {
     "data": {
      "text/html": [
       "<div>\n",
       "<style scoped>\n",
       "    .dataframe tbody tr th:only-of-type {\n",
       "        vertical-align: middle;\n",
       "    }\n",
       "\n",
       "    .dataframe tbody tr th {\n",
       "        vertical-align: top;\n",
       "    }\n",
       "\n",
       "    .dataframe thead th {\n",
       "        text-align: right;\n",
       "    }\n",
       "</style>\n",
       "<table border=\"1\" class=\"dataframe\">\n",
       "  <thead>\n",
       "    <tr style=\"text-align: right;\">\n",
       "      <th></th>\n",
       "      <th></th>\n",
       "      <th>Armenia</th>\n",
       "      <th>Belarus</th>\n",
       "      <th>Kazakhstan</th>\n",
       "      <th>Kyrgyz Republic</th>\n",
       "      <th>Russian Federation</th>\n",
       "    </tr>\n",
       "    <tr>\n",
       "      <th>model</th>\n",
       "      <th>coef</th>\n",
       "      <th></th>\n",
       "      <th></th>\n",
       "      <th></th>\n",
       "      <th></th>\n",
       "      <th></th>\n",
       "    </tr>\n",
       "  </thead>\n",
       "  <tbody>\n",
       "    <tr>\n",
       "      <th>post</th>\n",
       "      <th>Level.L1</th>\n",
       "      <td>0.89</td>\n",
       "      <td>0.7***</td>\n",
       "      <td>0.91</td>\n",
       "      <td>0.86</td>\n",
       "      <td>0.84</td>\n",
       "    </tr>\n",
       "  </tbody>\n",
       "</table>\n",
       "</div>"
      ],
      "text/plain": [
       "               Armenia Belarus Kazakhstan Kyrgyz Republic Russian Federation\n",
       "model coef                                                                  \n",
       "post  Level.L1    0.89  0.7***       0.91            0.86               0.84"
      ]
     },
     "execution_count": 37,
     "metadata": {},
     "output_type": "execute_result"
    }
   ],
   "source": [
    "table_post_tr = createTable(ADF_res_post_tr,['post'],['Level.L1'],lags)\n",
    "table_post_tr"
   ]
  },
  {
   "cell_type": "markdown",
   "id": "aa3f633a-43f2-45c3-b652-bba69c914eba",
   "metadata": {
    "heading_collapsed": true,
    "hidden": true
   },
   "source": [
    "#### Summarizing results"
   ]
  },
  {
   "cell_type": "markdown",
   "id": "39dde21a-f182-4b24-8fd6-f9b0a00223a7",
   "metadata": {
    "heading_collapsed": true,
    "hidden": true
   },
   "source": [
    "##### ADF with constant"
   ]
  },
  {
   "cell_type": "code",
   "execution_count": 38,
   "id": "5a81929d-55f8-4872-8b2a-356b6f719eb6",
   "metadata": {},
   "outputs": [
    {
     "data": {
      "text/html": [
       "<div>\n",
       "<style scoped>\n",
       "    .dataframe tbody tr th:only-of-type {\n",
       "        vertical-align: middle;\n",
       "    }\n",
       "\n",
       "    .dataframe tbody tr th {\n",
       "        vertical-align: top;\n",
       "    }\n",
       "\n",
       "    .dataframe thead tr th {\n",
       "        text-align: left;\n",
       "    }\n",
       "</style>\n",
       "<table border=\"1\" class=\"dataframe\">\n",
       "  <thead>\n",
       "    <tr>\n",
       "      <th>model</th>\n",
       "      <th>all</th>\n",
       "      <th colspan=\"2\" halign=\"left\">pre-post</th>\n",
       "      <th>pre</th>\n",
       "      <th>post</th>\n",
       "    </tr>\n",
       "    <tr>\n",
       "      <th>coef</th>\n",
       "      <th>Level.L1</th>\n",
       "      <th>Level.L1_pre</th>\n",
       "      <th>Level.L1_post</th>\n",
       "      <th>Level.L1</th>\n",
       "      <th>Level.L1</th>\n",
       "    </tr>\n",
       "  </thead>\n",
       "  <tbody>\n",
       "    <tr>\n",
       "      <th>Armenia</th>\n",
       "      <td>0.99</td>\n",
       "      <td>0.99</td>\n",
       "      <td>0.99</td>\n",
       "      <td>0.99</td>\n",
       "      <td>0.99</td>\n",
       "    </tr>\n",
       "    <tr>\n",
       "      <th>Belarus</th>\n",
       "      <td>0.99</td>\n",
       "      <td>0.96</td>\n",
       "      <td>0.96</td>\n",
       "      <td>0.97</td>\n",
       "      <td>0.74***</td>\n",
       "    </tr>\n",
       "    <tr>\n",
       "      <th>Kazakhstan</th>\n",
       "      <td>0.98</td>\n",
       "      <td>0.95***</td>\n",
       "      <td>0.95***</td>\n",
       "      <td>0.98</td>\n",
       "      <td>0.93*</td>\n",
       "    </tr>\n",
       "    <tr>\n",
       "      <th>Kyrgyz Republic</th>\n",
       "      <td>0.97</td>\n",
       "      <td>0.98</td>\n",
       "      <td>0.98</td>\n",
       "      <td>0.98</td>\n",
       "      <td>0.94</td>\n",
       "    </tr>\n",
       "    <tr>\n",
       "      <th>Russian Federation</th>\n",
       "      <td>0.97**</td>\n",
       "      <td>0.97**</td>\n",
       "      <td>0.97**</td>\n",
       "      <td>0.98</td>\n",
       "      <td>0.83*</td>\n",
       "    </tr>\n",
       "  </tbody>\n",
       "</table>\n",
       "</div>"
      ],
      "text/plain": [
       "model                   all     pre-post                    pre     post\n",
       "coef               Level.L1 Level.L1_pre Level.L1_post Level.L1 Level.L1\n",
       "Armenia                0.99         0.99          0.99     0.99     0.99\n",
       "Belarus                0.99         0.96          0.96     0.97  0.74***\n",
       "Kazakhstan             0.98      0.95***       0.95***     0.98    0.93*\n",
       "Kyrgyz Republic        0.97         0.98          0.98     0.98     0.94\n",
       "Russian Federation   0.97**       0.97**        0.97**     0.98    0.83*"
      ]
     },
     "execution_count": 38,
     "metadata": {},
     "output_type": "execute_result"
    }
   ],
   "source": [
    "Table_ct = pd.concat((table_ct,table_pre_post_ct,table_pre_ct,table_post_ct)).transpose()\n",
    "Table_ct.to_excel('./Outputs/OLS_ct.xlsx')\n",
    "Table_ct"
   ]
  },
  {
   "cell_type": "markdown",
   "id": "7bdd55db-3619-452d-ac16-412ff7a15a0e",
   "metadata": {
    "heading_collapsed": true,
    "hidden": true
   },
   "source": [
    "##### ADF with trend"
   ]
  },
  {
   "cell_type": "code",
   "execution_count": 39,
   "id": "0198259e-2aad-4018-a15c-2a6a68ed7cb6",
   "metadata": {},
   "outputs": [
    {
     "data": {
      "text/html": [
       "<div>\n",
       "<style scoped>\n",
       "    .dataframe tbody tr th:only-of-type {\n",
       "        vertical-align: middle;\n",
       "    }\n",
       "\n",
       "    .dataframe tbody tr th {\n",
       "        vertical-align: top;\n",
       "    }\n",
       "\n",
       "    .dataframe thead tr th {\n",
       "        text-align: left;\n",
       "    }\n",
       "</style>\n",
       "<table border=\"1\" class=\"dataframe\">\n",
       "  <thead>\n",
       "    <tr>\n",
       "      <th>model</th>\n",
       "      <th>all</th>\n",
       "      <th colspan=\"2\" halign=\"left\">pre-post</th>\n",
       "      <th>pre</th>\n",
       "      <th>post</th>\n",
       "    </tr>\n",
       "    <tr>\n",
       "      <th>coef</th>\n",
       "      <th>Level.L1</th>\n",
       "      <th>Level.L1_pre</th>\n",
       "      <th>Level.L1_post</th>\n",
       "      <th>Level.L1</th>\n",
       "      <th>Level.L1</th>\n",
       "    </tr>\n",
       "  </thead>\n",
       "  <tbody>\n",
       "    <tr>\n",
       "      <th>Armenia</th>\n",
       "      <td>0.98</td>\n",
       "      <td>0.97</td>\n",
       "      <td>0.97</td>\n",
       "      <td>0.96</td>\n",
       "      <td>0.89</td>\n",
       "    </tr>\n",
       "    <tr>\n",
       "      <th>Belarus</th>\n",
       "      <td>0.9**</td>\n",
       "      <td>0.9**</td>\n",
       "      <td>0.9**</td>\n",
       "      <td>0.9*</td>\n",
       "      <td>0.7***</td>\n",
       "    </tr>\n",
       "    <tr>\n",
       "      <th>Kazakhstan</th>\n",
       "      <td>0.98</td>\n",
       "      <td>0.93***</td>\n",
       "      <td>0.92***</td>\n",
       "      <td>0.9***</td>\n",
       "      <td>0.91</td>\n",
       "    </tr>\n",
       "    <tr>\n",
       "      <th>Kyrgyz Republic</th>\n",
       "      <td>0.97</td>\n",
       "      <td>0.94*</td>\n",
       "      <td>0.94*</td>\n",
       "      <td>0.91**</td>\n",
       "      <td>0.86</td>\n",
       "    </tr>\n",
       "    <tr>\n",
       "      <th>Russian Federation</th>\n",
       "      <td>0.98</td>\n",
       "      <td>0.98</td>\n",
       "      <td>0.98</td>\n",
       "      <td>1.0</td>\n",
       "      <td>0.84</td>\n",
       "    </tr>\n",
       "  </tbody>\n",
       "</table>\n",
       "</div>"
      ],
      "text/plain": [
       "model                   all     pre-post                    pre     post\n",
       "coef               Level.L1 Level.L1_pre Level.L1_post Level.L1 Level.L1\n",
       "Armenia                0.98         0.97          0.97     0.96     0.89\n",
       "Belarus               0.9**        0.9**         0.9**     0.9*   0.7***\n",
       "Kazakhstan             0.98      0.93***       0.92***   0.9***     0.91\n",
       "Kyrgyz Republic        0.97        0.94*         0.94*   0.91**     0.86\n",
       "Russian Federation     0.98         0.98          0.98      1.0     0.84"
      ]
     },
     "execution_count": 39,
     "metadata": {},
     "output_type": "execute_result"
    }
   ],
   "source": [
    "Table_tr = pd.concat((table_tr,table_pre_post_tr,table_pre_tr,table_post_tr)).transpose()\n",
    "Table_tr.to_excel('./Outputs/OLS_tr.xlsx')\n",
    "Table_tr"
   ]
  },
  {
   "cell_type": "markdown",
   "id": "clinical-figure",
   "metadata": {},
   "source": [
    "### Capturing Convergence"
   ]
  },
  {
   "cell_type": "code",
   "execution_count": 40,
   "id": "greek-international",
   "metadata": {},
   "outputs": [
    {
     "name": "stderr",
     "output_type": "stream",
     "text": [
      "/usr/local/lib/python3.8/dist-packages/statsmodels/tsa/tsatools.py:142: FutureWarning: In a future version of pandas all arguments of concat except for the argument 'objs' will be keyword-only\n",
      "  x = pd.concat(x[::order], 1)\n"
     ]
    }
   ],
   "source": [
    "y = data['Belarus']\n",
    "EAEU = pd.Series((y.index > '2014-12-01').astype(int), index=y.index, name='EAEU')\n",
    "qtar_model = QTAR(y, EAEU, 'ct', pmax=12, ic='AIC')\n",
    "res = qtar_model.fit(0.5)"
   ]
  },
  {
   "cell_type": "code",
   "execution_count": 41,
   "id": "induced-fifth",
   "metadata": {},
   "outputs": [
    {
     "name": "stdout",
     "output_type": "stream",
     "text": [
      "quantile: 0.5\n",
      "Lags: 6\n",
      "α₀(τ): 9.5236\n",
      "ρ₁(τ): 0.8991\n",
      "α₁(τ): -0.00537\n",
      "δ²: 0.25\n",
      "tₙ(τ): -4.8044\n"
     ]
    }
   ],
   "source": [
    "res.summary()"
   ]
  },
  {
   "cell_type": "code",
   "execution_count": 42,
   "id": "connected-recommendation",
   "metadata": {},
   "outputs": [
    {
     "data": {
      "text/html": [
       "<table class=\"simpletable\">\n",
       "<caption>QuantReg Regression Results</caption>\n",
       "<tr>\n",
       "  <th>Dep. Variable:</th>      <td>Belarus</td>     <th>  Pseudo R-squared:  </th> <td>  0.8975</td>\n",
       "</tr>\n",
       "<tr>\n",
       "  <th>Model:</th>             <td>QuantReg</td>     <th>  Bandwidth:         </th> <td>  0.9092</td>\n",
       "</tr>\n",
       "<tr>\n",
       "  <th>Method:</th>          <td>Least Squares</td>  <th>  Sparsity:          </th> <td>   2.898</td>\n",
       "</tr>\n",
       "<tr>\n",
       "  <th>Date:</th>          <td>Wed, 25 Aug 2021</td> <th>  No. Observations:  </th>  <td>   245</td> \n",
       "</tr>\n",
       "<tr>\n",
       "  <th>Time:</th>              <td>23:03:00</td>     <th>  Df Residuals:      </th>  <td>   235</td> \n",
       "</tr>\n",
       "<tr>\n",
       "  <th> </th>                      <td> </td>        <th>  Df Model:          </th>  <td>     9</td> \n",
       "</tr>\n",
       "</table>\n",
       "<table class=\"simpletable\">\n",
       "<tr>\n",
       "            <td></td>              <th>coef</th>     <th>std err</th>      <th>t</th>      <th>P>|t|</th>  <th>[0.025</th>    <th>0.975]</th>  \n",
       "</tr>\n",
       "<tr>\n",
       "  <th>const</th>                <td>    9.5236</td> <td>    2.035</td> <td>    4.679</td> <td> 0.000</td> <td>    5.514</td> <td>   13.534</td>\n",
       "</tr>\n",
       "<tr>\n",
       "  <th>Belarus.L1</th>           <td>    0.8991</td> <td>    0.021</td> <td>   42.964</td> <td> 0.000</td> <td>    0.858</td> <td>    0.940</td>\n",
       "</tr>\n",
       "<tr>\n",
       "  <th>post-EAEU_Belarus.L1</th> <td>   -0.0054</td> <td>    0.005</td> <td>   -1.014</td> <td> 0.312</td> <td>   -0.016</td> <td>    0.005</td>\n",
       "</tr>\n",
       "<tr>\n",
       "  <th>Diff.L1</th>              <td>    0.1498</td> <td>    0.042</td> <td>    3.533</td> <td> 0.000</td> <td>    0.066</td> <td>    0.233</td>\n",
       "</tr>\n",
       "<tr>\n",
       "  <th>Diff.L2</th>              <td>   -0.0834</td> <td>    0.043</td> <td>   -1.960</td> <td> 0.051</td> <td>   -0.167</td> <td>    0.000</td>\n",
       "</tr>\n",
       "<tr>\n",
       "  <th>Diff.L3</th>              <td>    0.0301</td> <td>    0.043</td> <td>    0.703</td> <td> 0.483</td> <td>   -0.054</td> <td>    0.115</td>\n",
       "</tr>\n",
       "<tr>\n",
       "  <th>Diff.L4</th>              <td>    0.0061</td> <td>    0.043</td> <td>    0.143</td> <td> 0.886</td> <td>   -0.078</td> <td>    0.090</td>\n",
       "</tr>\n",
       "<tr>\n",
       "  <th>Diff.L5</th>              <td>    0.0214</td> <td>    0.041</td> <td>    0.525</td> <td> 0.600</td> <td>   -0.059</td> <td>    0.102</td>\n",
       "</tr>\n",
       "<tr>\n",
       "  <th>Diff.L6</th>              <td>   -0.1171</td> <td>    0.040</td> <td>   -2.936</td> <td> 0.004</td> <td>   -0.196</td> <td>   -0.039</td>\n",
       "</tr>\n",
       "<tr>\n",
       "  <th>trend</th>                <td>   -0.0151</td> <td>    0.004</td> <td>   -3.646</td> <td> 0.000</td> <td>   -0.023</td> <td>   -0.007</td>\n",
       "</tr>\n",
       "</table><br/><br/>The condition number is large, 3.46e+03. This might indicate that there are<br/>strong multicollinearity or other numerical problems."
      ],
      "text/plain": [
       "<class 'statsmodels.iolib.summary.Summary'>\n",
       "\"\"\"\n",
       "                         QuantReg Regression Results                          \n",
       "==============================================================================\n",
       "Dep. Variable:                Belarus   Pseudo R-squared:               0.8975\n",
       "Model:                       QuantReg   Bandwidth:                      0.9092\n",
       "Method:                 Least Squares   Sparsity:                        2.898\n",
       "Date:                Wed, 25 Aug 2021   No. Observations:                  245\n",
       "Time:                        23:03:00   Df Residuals:                      235\n",
       "                                        Df Model:                            9\n",
       "========================================================================================\n",
       "                           coef    std err          t      P>|t|      [0.025      0.975]\n",
       "----------------------------------------------------------------------------------------\n",
       "const                    9.5236      2.035      4.679      0.000       5.514      13.534\n",
       "Belarus.L1               0.8991      0.021     42.964      0.000       0.858       0.940\n",
       "post-EAEU_Belarus.L1    -0.0054      0.005     -1.014      0.312      -0.016       0.005\n",
       "Diff.L1                  0.1498      0.042      3.533      0.000       0.066       0.233\n",
       "Diff.L2                 -0.0834      0.043     -1.960      0.051      -0.167       0.000\n",
       "Diff.L3                  0.0301      0.043      0.703      0.483      -0.054       0.115\n",
       "Diff.L4                  0.0061      0.043      0.143      0.886      -0.078       0.090\n",
       "Diff.L5                  0.0214      0.041      0.525      0.600      -0.059       0.102\n",
       "Diff.L6                 -0.1171      0.040     -2.936      0.004      -0.196      -0.039\n",
       "trend                   -0.0151      0.004     -3.646      0.000      -0.023      -0.007\n",
       "========================================================================================\n",
       "\n",
       "The condition number is large, 3.46e+03. This might indicate that there are\n",
       "strong multicollinearity or other numerical problems.\n",
       "\"\"\""
      ]
     },
     "execution_count": 42,
     "metadata": {},
     "output_type": "execute_result"
    }
   ],
   "source": [
    "res.regression.summary()"
   ]
  },
  {
   "cell_type": "code",
   "execution_count": 43,
   "id": "statistical-bridges",
   "metadata": {},
   "outputs": [
    {
     "name": "stderr",
     "output_type": "stream",
     "text": [
      "/usr/local/lib/python3.8/dist-packages/statsmodels/regression/quantile_regression.py:190: IterationLimitWarning: Maximum number of iterations (1000) reached.\n",
      "  warnings.warn(\"Maximum number of iterations (\" + str(max_iter) +\n",
      "/usr/local/lib/python3.8/dist-packages/statsmodels/tsa/tsatools.py:142: FutureWarning: In a future version of pandas all arguments of concat except for the argument 'objs' will be keyword-only\n",
      "  x = pd.concat(x[::order], 1)\n"
     ]
    },
    {
     "data": {
      "text/html": [
       "<div>\n",
       "<style scoped>\n",
       "    .dataframe tbody tr th:only-of-type {\n",
       "        vertical-align: middle;\n",
       "    }\n",
       "\n",
       "    .dataframe tbody tr th {\n",
       "        vertical-align: top;\n",
       "    }\n",
       "\n",
       "    .dataframe thead th {\n",
       "        text-align: right;\n",
       "    }\n",
       "</style>\n",
       "<table border=\"1\" class=\"dataframe\">\n",
       "  <thead>\n",
       "    <tr style=\"text-align: right;\">\n",
       "      <th></th>\n",
       "      <th>Lags</th>\n",
       "      <th>α₀(τ)</th>\n",
       "      <th>ρ₁(τ)</th>\n",
       "      <th>α₁(τ)</th>\n",
       "      <th>δ²</th>\n",
       "      <th>tₙ(τ)</th>\n",
       "      <th>QKS</th>\n",
       "      <th>name</th>\n",
       "    </tr>\n",
       "    <tr>\n",
       "      <th>quantile</th>\n",
       "      <th></th>\n",
       "      <th></th>\n",
       "      <th></th>\n",
       "      <th></th>\n",
       "      <th></th>\n",
       "      <th></th>\n",
       "      <th></th>\n",
       "      <th></th>\n",
       "    </tr>\n",
       "  </thead>\n",
       "  <tbody>\n",
       "    <tr>\n",
       "      <th>0.1</th>\n",
       "      <td>6</td>\n",
       "      <td>8.9843</td>\n",
       "      <td>0.8866</td>\n",
       "      <td>-0.00558</td>\n",
       "      <td>0.316</td>\n",
       "      <td>-1.9050</td>\n",
       "      <td>5.1136</td>\n",
       "      <td>Belarus</td>\n",
       "    </tr>\n",
       "    <tr>\n",
       "      <th>0.2</th>\n",
       "      <td>6</td>\n",
       "      <td>10.4360</td>\n",
       "      <td>0.8808</td>\n",
       "      <td>-0.00913</td>\n",
       "      <td>0.276</td>\n",
       "      <td>-3.9013</td>\n",
       "      <td>5.1136</td>\n",
       "      <td>Belarus</td>\n",
       "    </tr>\n",
       "    <tr>\n",
       "      <th>0.3</th>\n",
       "      <td>6</td>\n",
       "      <td>9.2477</td>\n",
       "      <td>0.8984</td>\n",
       "      <td>-0.00075</td>\n",
       "      <td>0.277</td>\n",
       "      <td>-4.1011</td>\n",
       "      <td>5.1136</td>\n",
       "      <td>Belarus</td>\n",
       "    </tr>\n",
       "    <tr>\n",
       "      <th>0.4</th>\n",
       "      <td>6</td>\n",
       "      <td>9.2345</td>\n",
       "      <td>0.9014</td>\n",
       "      <td>-0.00266</td>\n",
       "      <td>0.261</td>\n",
       "      <td>-5.1136</td>\n",
       "      <td>5.1136</td>\n",
       "      <td>Belarus</td>\n",
       "    </tr>\n",
       "    <tr>\n",
       "      <th>0.5</th>\n",
       "      <td>6</td>\n",
       "      <td>9.5236</td>\n",
       "      <td>0.8991</td>\n",
       "      <td>-0.00537</td>\n",
       "      <td>0.250</td>\n",
       "      <td>-4.8044</td>\n",
       "      <td>5.1136</td>\n",
       "      <td>Belarus</td>\n",
       "    </tr>\n",
       "    <tr>\n",
       "      <th>0.6</th>\n",
       "      <td>6</td>\n",
       "      <td>7.8159</td>\n",
       "      <td>0.9187</td>\n",
       "      <td>-0.01188</td>\n",
       "      <td>0.245</td>\n",
       "      <td>-3.8647</td>\n",
       "      <td>5.1136</td>\n",
       "      <td>Belarus</td>\n",
       "    </tr>\n",
       "    <tr>\n",
       "      <th>0.7</th>\n",
       "      <td>6</td>\n",
       "      <td>7.3408</td>\n",
       "      <td>0.9257</td>\n",
       "      <td>-0.01976</td>\n",
       "      <td>0.231</td>\n",
       "      <td>-2.9234</td>\n",
       "      <td>5.1136</td>\n",
       "      <td>Belarus</td>\n",
       "    </tr>\n",
       "    <tr>\n",
       "      <th>0.8</th>\n",
       "      <td>6</td>\n",
       "      <td>4.7978</td>\n",
       "      <td>0.9537</td>\n",
       "      <td>-0.03072</td>\n",
       "      <td>0.200</td>\n",
       "      <td>-1.6762</td>\n",
       "      <td>5.1136</td>\n",
       "      <td>Belarus</td>\n",
       "    </tr>\n",
       "    <tr>\n",
       "      <th>0.9</th>\n",
       "      <td>6</td>\n",
       "      <td>5.1247</td>\n",
       "      <td>0.9523</td>\n",
       "      <td>-0.05306</td>\n",
       "      <td>0.174</td>\n",
       "      <td>-0.8058</td>\n",
       "      <td>5.1136</td>\n",
       "      <td>Belarus</td>\n",
       "    </tr>\n",
       "  </tbody>\n",
       "</table>\n",
       "</div>"
      ],
      "text/plain": [
       "          Lags    α₀(τ)   ρ₁(τ)    α₁(τ)     δ²   tₙ(τ)     QKS     name\n",
       "quantile                                                                \n",
       "0.1          6   8.9843  0.8866 -0.00558  0.316 -1.9050  5.1136  Belarus\n",
       "0.2          6  10.4360  0.8808 -0.00913  0.276 -3.9013  5.1136  Belarus\n",
       "0.3          6   9.2477  0.8984 -0.00075  0.277 -4.1011  5.1136  Belarus\n",
       "0.4          6   9.2345  0.9014 -0.00266  0.261 -5.1136  5.1136  Belarus\n",
       "0.5          6   9.5236  0.8991 -0.00537  0.250 -4.8044  5.1136  Belarus\n",
       "0.6          6   7.8159  0.9187 -0.01188  0.245 -3.8647  5.1136  Belarus\n",
       "0.7          6   7.3408  0.9257 -0.01976  0.231 -2.9234  5.1136  Belarus\n",
       "0.8          6   4.7978  0.9537 -0.03072  0.200 -1.6762  5.1136  Belarus\n",
       "0.9          6   5.1247  0.9523 -0.05306  0.174 -0.8058  5.1136  Belarus"
      ]
     },
     "execution_count": 43,
     "metadata": {},
     "output_type": "execute_result"
    }
   ],
   "source": [
    "quantiles = np.arange(0.1, 1, 0.1)\n",
    "res.fitForQuantiles(quantiles)"
   ]
  },
  {
   "cell_type": "code",
   "execution_count": 44,
   "id": "played-montana",
   "metadata": {},
   "outputs": [
    {
     "name": "stderr",
     "output_type": "stream",
     "text": [
      "/usr/local/lib/python3.8/dist-packages/statsmodels/tsa/tsatools.py:142: FutureWarning: In a future version of pandas all arguments of concat except for the argument 'objs' will be keyword-only\n",
      "  x = pd.concat(x[::order], 1)\n"
     ]
    }
   ],
   "source": [
    "y = data['Belarus']\n",
    "EAEU = pd.Series((y.index >= '2015-01-01').astype(int), index=y.index, name='EAEU')\n",
    "qtar_model = QTAR(y, EAEU, 'ct', pmax=12, ic='AIC')\n",
    "levels = [0.01,0.05,0.1]\n",
    "quantiles = np.arange(0.1, 1, 0.1)\n",
    "drop = ['δ²', 'Lags']\n",
    "reps = 100\n",
    "\n",
    "from statsmodels.tools.sm_exceptions import IterationLimitWarning\n",
    "import warnings\n",
    "warnings.simplefilter('ignore', IterationLimitWarning)"
   ]
  },
  {
   "cell_type": "code",
   "execution_count": 45,
   "id": "rotary-nightmare",
   "metadata": {},
   "outputs": [
    {
     "name": "stderr",
     "output_type": "stream",
     "text": [
      "/usr/local/lib/python3.8/dist-packages/statsmodels/tsa/tsatools.py:142: FutureWarning: In a future version of pandas all arguments of concat except for the argument 'objs' will be keyword-only\n",
      "  x = pd.concat(x[::order], 1)\n",
      "/usr/local/lib/python3.8/dist-packages/statsmodels/tsa/base/tsa_model.py:132: FutureWarning: The 'freq' argument in Timestamp is deprecated and will be removed in a future version.\n",
      "  date_key = Timestamp(key, freq=base_index.freq)\n",
      "/usr/local/lib/python3.8/dist-packages/statsmodels/tsa/tsatools.py:142: FutureWarning: In a future version of pandas all arguments of concat except for the argument 'objs' will be keyword-only\n",
      "  x = pd.concat(x[::order], 1)\n",
      "/usr/local/lib/python3.8/dist-packages/statsmodels/tsa/tsatools.py:142: FutureWarning: In a future version of pandas all arguments of concat except for the argument 'objs' will be keyword-only\n",
      "  x = pd.concat(x[::order], 1)\n",
      "/usr/local/lib/python3.8/dist-packages/statsmodels/regression/quantile_regression.py:190: IterationLimitWarning: Maximum number of iterations (1000) reached.\n",
      "  warnings.warn(\"Maximum number of iterations (\" + str(max_iter) +\n",
      "/usr/local/lib/python3.8/dist-packages/statsmodels/regression/quantile_regression.py:190: IterationLimitWarning: Maximum number of iterations (1000) reached.\n",
      "  warnings.warn(\"Maximum number of iterations (\" + str(max_iter) +\n",
      "/usr/local/lib/python3.8/dist-packages/statsmodels/tsa/tsatools.py:142: FutureWarning: In a future version of pandas all arguments of concat except for the argument 'objs' will be keyword-only\n",
      "  x = pd.concat(x[::order], 1)\n",
      "/usr/local/lib/python3.8/dist-packages/statsmodels/regression/quantile_regression.py:190: IterationLimitWarning: Maximum number of iterations (1000) reached.\n",
      "  warnings.warn(\"Maximum number of iterations (\" + str(max_iter) +\n",
      "/usr/local/lib/python3.8/dist-packages/statsmodels/tsa/tsatools.py:142: FutureWarning: In a future version of pandas all arguments of concat except for the argument 'objs' will be keyword-only\n",
      "  x = pd.concat(x[::order], 1)\n",
      "/usr/local/lib/python3.8/dist-packages/statsmodels/regression/quantile_regression.py:190: IterationLimitWarning: Maximum number of iterations (1000) reached.\n",
      "  warnings.warn(\"Maximum number of iterations (\" + str(max_iter) +\n",
      "/usr/local/lib/python3.8/dist-packages/statsmodels/regression/quantile_regression.py:190: IterationLimitWarning: Maximum number of iterations (1000) reached.\n",
      "  warnings.warn(\"Maximum number of iterations (\" + str(max_iter) +\n",
      "/usr/local/lib/python3.8/dist-packages/statsmodels/tsa/tsatools.py:142: FutureWarning: In a future version of pandas all arguments of concat except for the argument 'objs' will be keyword-only\n",
      "  x = pd.concat(x[::order], 1)\n",
      "/usr/local/lib/python3.8/dist-packages/statsmodels/regression/quantile_regression.py:190: IterationLimitWarning: Maximum number of iterations (1000) reached.\n",
      "  warnings.warn(\"Maximum number of iterations (\" + str(max_iter) +\n",
      "/usr/local/lib/python3.8/dist-packages/statsmodels/regression/quantile_regression.py:190: IterationLimitWarning: Maximum number of iterations (1000) reached.\n",
      "  warnings.warn(\"Maximum number of iterations (\" + str(max_iter) +\n",
      "/usr/local/lib/python3.8/dist-packages/statsmodels/tsa/tsatools.py:142: FutureWarning: In a future version of pandas all arguments of concat except for the argument 'objs' will be keyword-only\n",
      "  x = pd.concat(x[::order], 1)\n",
      "/usr/local/lib/python3.8/dist-packages/statsmodels/regression/quantile_regression.py:190: IterationLimitWarning: Maximum number of iterations (1000) reached.\n",
      "  warnings.warn(\"Maximum number of iterations (\" + str(max_iter) +\n",
      "/usr/local/lib/python3.8/dist-packages/statsmodels/tsa/tsatools.py:142: FutureWarning: In a future version of pandas all arguments of concat except for the argument 'objs' will be keyword-only\n",
      "  x = pd.concat(x[::order], 1)\n",
      "/usr/local/lib/python3.8/dist-packages/statsmodels/tsa/tsatools.py:142: FutureWarning: In a future version of pandas all arguments of concat except for the argument 'objs' will be keyword-only\n",
      "  x = pd.concat(x[::order], 1)\n",
      "/usr/local/lib/python3.8/dist-packages/statsmodels/tsa/tsatools.py:142: FutureWarning: In a future version of pandas all arguments of concat except for the argument 'objs' will be keyword-only\n",
      "  x = pd.concat(x[::order], 1)\n",
      "/usr/local/lib/python3.8/dist-packages/statsmodels/regression/quantile_regression.py:190: IterationLimitWarning: Maximum number of iterations (1000) reached.\n",
      "  warnings.warn(\"Maximum number of iterations (\" + str(max_iter) +\n",
      "/usr/local/lib/python3.8/dist-packages/statsmodels/regression/quantile_regression.py:190: IterationLimitWarning: Maximum number of iterations (1000) reached.\n",
      "  warnings.warn(\"Maximum number of iterations (\" + str(max_iter) +\n",
      "/usr/local/lib/python3.8/dist-packages/statsmodels/regression/quantile_regression.py:190: IterationLimitWarning: Maximum number of iterations (1000) reached.\n",
      "  warnings.warn(\"Maximum number of iterations (\" + str(max_iter) +\n",
      "/usr/local/lib/python3.8/dist-packages/statsmodels/tsa/tsatools.py:142: FutureWarning: In a future version of pandas all arguments of concat except for the argument 'objs' will be keyword-only\n",
      "  x = pd.concat(x[::order], 1)\n",
      "/usr/local/lib/python3.8/dist-packages/statsmodels/regression/quantile_regression.py:190: IterationLimitWarning: Maximum number of iterations (1000) reached.\n",
      "  warnings.warn(\"Maximum number of iterations (\" + str(max_iter) +\n",
      "/usr/local/lib/python3.8/dist-packages/statsmodels/regression/quantile_regression.py:190: IterationLimitWarning: Maximum number of iterations (1000) reached.\n",
      "  warnings.warn(\"Maximum number of iterations (\" + str(max_iter) +\n",
      "/usr/local/lib/python3.8/dist-packages/statsmodels/tsa/tsatools.py:142: FutureWarning: In a future version of pandas all arguments of concat except for the argument 'objs' will be keyword-only\n",
      "  x = pd.concat(x[::order], 1)\n",
      "/usr/local/lib/python3.8/dist-packages/statsmodels/regression/quantile_regression.py:190: IterationLimitWarning: Maximum number of iterations (1000) reached.\n",
      "  warnings.warn(\"Maximum number of iterations (\" + str(max_iter) +\n",
      "/usr/local/lib/python3.8/dist-packages/statsmodels/tsa/tsatools.py:142: FutureWarning: In a future version of pandas all arguments of concat except for the argument 'objs' will be keyword-only\n",
      "  x = pd.concat(x[::order], 1)\n",
      "/usr/local/lib/python3.8/dist-packages/statsmodels/regression/quantile_regression.py:190: IterationLimitWarning: Maximum number of iterations (1000) reached.\n",
      "  warnings.warn(\"Maximum number of iterations (\" + str(max_iter) +\n",
      "/usr/local/lib/python3.8/dist-packages/statsmodels/tsa/tsatools.py:142: FutureWarning: In a future version of pandas all arguments of concat except for the argument 'objs' will be keyword-only\n",
      "  x = pd.concat(x[::order], 1)\n",
      "/usr/local/lib/python3.8/dist-packages/statsmodels/regression/quantile_regression.py:190: IterationLimitWarning: Maximum number of iterations (1000) reached.\n",
      "  warnings.warn(\"Maximum number of iterations (\" + str(max_iter) +\n",
      "/usr/local/lib/python3.8/dist-packages/statsmodels/regression/quantile_regression.py:190: IterationLimitWarning: Maximum number of iterations (1000) reached.\n",
      "  warnings.warn(\"Maximum number of iterations (\" + str(max_iter) +\n",
      "/usr/local/lib/python3.8/dist-packages/statsmodels/tsa/tsatools.py:142: FutureWarning: In a future version of pandas all arguments of concat except for the argument 'objs' will be keyword-only\n",
      "  x = pd.concat(x[::order], 1)\n",
      "/usr/local/lib/python3.8/dist-packages/statsmodels/regression/quantile_regression.py:190: IterationLimitWarning: Maximum number of iterations (1000) reached.\n",
      "  warnings.warn(\"Maximum number of iterations (\" + str(max_iter) +\n",
      "/usr/local/lib/python3.8/dist-packages/statsmodels/regression/quantile_regression.py:190: IterationLimitWarning: Maximum number of iterations (1000) reached.\n",
      "  warnings.warn(\"Maximum number of iterations (\" + str(max_iter) +\n",
      "/usr/local/lib/python3.8/dist-packages/statsmodels/tsa/tsatools.py:142: FutureWarning: In a future version of pandas all arguments of concat except for the argument 'objs' will be keyword-only\n",
      "  x = pd.concat(x[::order], 1)\n",
      "/usr/local/lib/python3.8/dist-packages/statsmodels/regression/quantile_regression.py:190: IterationLimitWarning: Maximum number of iterations (1000) reached.\n",
      "  warnings.warn(\"Maximum number of iterations (\" + str(max_iter) +\n",
      "/usr/local/lib/python3.8/dist-packages/statsmodels/tsa/tsatools.py:142: FutureWarning: In a future version of pandas all arguments of concat except for the argument 'objs' will be keyword-only\n",
      "  x = pd.concat(x[::order], 1)\n",
      "/usr/local/lib/python3.8/dist-packages/statsmodels/tsa/tsatools.py:142: FutureWarning: In a future version of pandas all arguments of concat except for the argument 'objs' will be keyword-only\n",
      "  x = pd.concat(x[::order], 1)\n",
      "/usr/local/lib/python3.8/dist-packages/statsmodels/tsa/tsatools.py:142: FutureWarning: In a future version of pandas all arguments of concat except for the argument 'objs' will be keyword-only\n",
      "  x = pd.concat(x[::order], 1)\n",
      "/usr/local/lib/python3.8/dist-packages/statsmodels/regression/quantile_regression.py:190: IterationLimitWarning: Maximum number of iterations (1000) reached.\n",
      "  warnings.warn(\"Maximum number of iterations (\" + str(max_iter) +\n",
      "/usr/local/lib/python3.8/dist-packages/statsmodels/tsa/tsatools.py:142: FutureWarning: In a future version of pandas all arguments of concat except for the argument 'objs' will be keyword-only\n",
      "  x = pd.concat(x[::order], 1)\n",
      "/usr/local/lib/python3.8/dist-packages/statsmodels/regression/quantile_regression.py:190: IterationLimitWarning: Maximum number of iterations (1000) reached.\n",
      "  warnings.warn(\"Maximum number of iterations (\" + str(max_iter) +\n",
      "/usr/local/lib/python3.8/dist-packages/statsmodels/tsa/tsatools.py:142: FutureWarning: In a future version of pandas all arguments of concat except for the argument 'objs' will be keyword-only\n",
      "  x = pd.concat(x[::order], 1)\n",
      "/usr/local/lib/python3.8/dist-packages/statsmodels/regression/quantile_regression.py:190: IterationLimitWarning: Maximum number of iterations (1000) reached.\n",
      "  warnings.warn(\"Maximum number of iterations (\" + str(max_iter) +\n",
      "/usr/local/lib/python3.8/dist-packages/statsmodels/regression/quantile_regression.py:190: IterationLimitWarning: Maximum number of iterations (1000) reached.\n",
      "  warnings.warn(\"Maximum number of iterations (\" + str(max_iter) +\n",
      "/usr/local/lib/python3.8/dist-packages/statsmodels/regression/quantile_regression.py:190: IterationLimitWarning: Maximum number of iterations (1000) reached.\n",
      "  warnings.warn(\"Maximum number of iterations (\" + str(max_iter) +\n",
      "/usr/local/lib/python3.8/dist-packages/statsmodels/tsa/tsatools.py:142: FutureWarning: In a future version of pandas all arguments of concat except for the argument 'objs' will be keyword-only\n",
      "  x = pd.concat(x[::order], 1)\n",
      "/usr/local/lib/python3.8/dist-packages/statsmodels/regression/quantile_regression.py:190: IterationLimitWarning: Maximum number of iterations (1000) reached.\n",
      "  warnings.warn(\"Maximum number of iterations (\" + str(max_iter) +\n",
      "/usr/local/lib/python3.8/dist-packages/statsmodels/regression/quantile_regression.py:190: IterationLimitWarning: Maximum number of iterations (1000) reached.\n",
      "  warnings.warn(\"Maximum number of iterations (\" + str(max_iter) +\n",
      "/usr/local/lib/python3.8/dist-packages/statsmodels/tsa/tsatools.py:142: FutureWarning: In a future version of pandas all arguments of concat except for the argument 'objs' will be keyword-only\n",
      "  x = pd.concat(x[::order], 1)\n",
      "/usr/local/lib/python3.8/dist-packages/statsmodels/regression/quantile_regression.py:190: IterationLimitWarning: Maximum number of iterations (1000) reached.\n",
      "  warnings.warn(\"Maximum number of iterations (\" + str(max_iter) +\n",
      "/usr/local/lib/python3.8/dist-packages/statsmodels/regression/quantile_regression.py:190: IterationLimitWarning: Maximum number of iterations (1000) reached.\n",
      "  warnings.warn(\"Maximum number of iterations (\" + str(max_iter) +\n",
      "/usr/local/lib/python3.8/dist-packages/statsmodels/tsa/tsatools.py:142: FutureWarning: In a future version of pandas all arguments of concat except for the argument 'objs' will be keyword-only\n",
      "  x = pd.concat(x[::order], 1)\n",
      "/usr/local/lib/python3.8/dist-packages/statsmodels/regression/quantile_regression.py:190: IterationLimitWarning: Maximum number of iterations (1000) reached.\n",
      "  warnings.warn(\"Maximum number of iterations (\" + str(max_iter) +\n",
      "/usr/local/lib/python3.8/dist-packages/statsmodels/tsa/tsatools.py:142: FutureWarning: In a future version of pandas all arguments of concat except for the argument 'objs' will be keyword-only\n",
      "  x = pd.concat(x[::order], 1)\n",
      "/usr/local/lib/python3.8/dist-packages/statsmodels/regression/quantile_regression.py:190: IterationLimitWarning: Maximum number of iterations (1000) reached.\n",
      "  warnings.warn(\"Maximum number of iterations (\" + str(max_iter) +\n",
      "/usr/local/lib/python3.8/dist-packages/statsmodels/tsa/tsatools.py:142: FutureWarning: In a future version of pandas all arguments of concat except for the argument 'objs' will be keyword-only\n",
      "  x = pd.concat(x[::order], 1)\n",
      "/usr/local/lib/python3.8/dist-packages/statsmodels/regression/quantile_regression.py:190: IterationLimitWarning: Maximum number of iterations (1000) reached.\n",
      "  warnings.warn(\"Maximum number of iterations (\" + str(max_iter) +\n",
      "/usr/local/lib/python3.8/dist-packages/statsmodels/tsa/tsatools.py:142: FutureWarning: In a future version of pandas all arguments of concat except for the argument 'objs' will be keyword-only\n",
      "  x = pd.concat(x[::order], 1)\n",
      "/usr/local/lib/python3.8/dist-packages/statsmodels/regression/quantile_regression.py:190: IterationLimitWarning: Maximum number of iterations (1000) reached.\n",
      "  warnings.warn(\"Maximum number of iterations (\" + str(max_iter) +\n",
      "/usr/local/lib/python3.8/dist-packages/statsmodels/tsa/tsatools.py:142: FutureWarning: In a future version of pandas all arguments of concat except for the argument 'objs' will be keyword-only\n",
      "  x = pd.concat(x[::order], 1)\n",
      "/usr/local/lib/python3.8/dist-packages/statsmodels/regression/quantile_regression.py:190: IterationLimitWarning: Maximum number of iterations (1000) reached.\n",
      "  warnings.warn(\"Maximum number of iterations (\" + str(max_iter) +\n",
      "/usr/local/lib/python3.8/dist-packages/statsmodels/tsa/tsatools.py:142: FutureWarning: In a future version of pandas all arguments of concat except for the argument 'objs' will be keyword-only\n",
      "  x = pd.concat(x[::order], 1)\n",
      "/usr/local/lib/python3.8/dist-packages/statsmodels/regression/quantile_regression.py:190: IterationLimitWarning: Maximum number of iterations (1000) reached.\n",
      "  warnings.warn(\"Maximum number of iterations (\" + str(max_iter) +\n",
      "/usr/local/lib/python3.8/dist-packages/statsmodels/tsa/tsatools.py:142: FutureWarning: In a future version of pandas all arguments of concat except for the argument 'objs' will be keyword-only\n",
      "  x = pd.concat(x[::order], 1)\n",
      "/usr/local/lib/python3.8/dist-packages/statsmodels/tsa/tsatools.py:142: FutureWarning: In a future version of pandas all arguments of concat except for the argument 'objs' will be keyword-only\n",
      "  x = pd.concat(x[::order], 1)\n",
      "/usr/local/lib/python3.8/dist-packages/statsmodels/regression/quantile_regression.py:190: IterationLimitWarning: Maximum number of iterations (1000) reached.\n",
      "  warnings.warn(\"Maximum number of iterations (\" + str(max_iter) +\n",
      "/usr/local/lib/python3.8/dist-packages/statsmodels/regression/quantile_regression.py:190: IterationLimitWarning: Maximum number of iterations (1000) reached.\n",
      "  warnings.warn(\"Maximum number of iterations (\" + str(max_iter) +\n",
      "/usr/local/lib/python3.8/dist-packages/statsmodels/regression/quantile_regression.py:190: IterationLimitWarning: Maximum number of iterations (1000) reached.\n",
      "  warnings.warn(\"Maximum number of iterations (\" + str(max_iter) +\n",
      "/usr/local/lib/python3.8/dist-packages/statsmodels/tsa/tsatools.py:142: FutureWarning: In a future version of pandas all arguments of concat except for the argument 'objs' will be keyword-only\n",
      "  x = pd.concat(x[::order], 1)\n",
      "/usr/local/lib/python3.8/dist-packages/statsmodels/tsa/tsatools.py:142: FutureWarning: In a future version of pandas all arguments of concat except for the argument 'objs' will be keyword-only\n",
      "  x = pd.concat(x[::order], 1)\n",
      "/usr/local/lib/python3.8/dist-packages/statsmodels/regression/quantile_regression.py:190: IterationLimitWarning: Maximum number of iterations (1000) reached.\n",
      "  warnings.warn(\"Maximum number of iterations (\" + str(max_iter) +\n",
      "/usr/local/lib/python3.8/dist-packages/statsmodels/regression/quantile_regression.py:190: IterationLimitWarning: Maximum number of iterations (1000) reached.\n",
      "  warnings.warn(\"Maximum number of iterations (\" + str(max_iter) +\n",
      "/usr/local/lib/python3.8/dist-packages/statsmodels/tsa/tsatools.py:142: FutureWarning: In a future version of pandas all arguments of concat except for the argument 'objs' will be keyword-only\n",
      "  x = pd.concat(x[::order], 1)\n",
      "/usr/local/lib/python3.8/dist-packages/statsmodels/tsa/tsatools.py:142: FutureWarning: In a future version of pandas all arguments of concat except for the argument 'objs' will be keyword-only\n",
      "  x = pd.concat(x[::order], 1)\n",
      "/usr/local/lib/python3.8/dist-packages/statsmodels/regression/quantile_regression.py:190: IterationLimitWarning: Maximum number of iterations (1000) reached.\n",
      "  warnings.warn(\"Maximum number of iterations (\" + str(max_iter) +\n",
      "/usr/local/lib/python3.8/dist-packages/statsmodels/tsa/tsatools.py:142: FutureWarning: In a future version of pandas all arguments of concat except for the argument 'objs' will be keyword-only\n",
      "  x = pd.concat(x[::order], 1)\n",
      "/usr/local/lib/python3.8/dist-packages/statsmodels/regression/quantile_regression.py:190: IterationLimitWarning: Maximum number of iterations (1000) reached.\n",
      "  warnings.warn(\"Maximum number of iterations (\" + str(max_iter) +\n",
      "/usr/local/lib/python3.8/dist-packages/statsmodels/tsa/tsatools.py:142: FutureWarning: In a future version of pandas all arguments of concat except for the argument 'objs' will be keyword-only\n",
      "  x = pd.concat(x[::order], 1)\n",
      "/usr/local/lib/python3.8/dist-packages/statsmodels/regression/quantile_regression.py:190: IterationLimitWarning: Maximum number of iterations (1000) reached.\n",
      "  warnings.warn(\"Maximum number of iterations (\" + str(max_iter) +\n",
      "/usr/local/lib/python3.8/dist-packages/statsmodels/tsa/tsatools.py:142: FutureWarning: In a future version of pandas all arguments of concat except for the argument 'objs' will be keyword-only\n",
      "  x = pd.concat(x[::order], 1)\n",
      "/usr/local/lib/python3.8/dist-packages/statsmodels/regression/quantile_regression.py:190: IterationLimitWarning: Maximum number of iterations (1000) reached.\n",
      "  warnings.warn(\"Maximum number of iterations (\" + str(max_iter) +\n",
      "/usr/local/lib/python3.8/dist-packages/statsmodels/tsa/tsatools.py:142: FutureWarning: In a future version of pandas all arguments of concat except for the argument 'objs' will be keyword-only\n",
      "  x = pd.concat(x[::order], 1)\n",
      "/usr/local/lib/python3.8/dist-packages/statsmodels/regression/quantile_regression.py:190: IterationLimitWarning: Maximum number of iterations (1000) reached.\n",
      "  warnings.warn(\"Maximum number of iterations (\" + str(max_iter) +\n",
      "/usr/local/lib/python3.8/dist-packages/statsmodels/tsa/tsatools.py:142: FutureWarning: In a future version of pandas all arguments of concat except for the argument 'objs' will be keyword-only\n",
      "  x = pd.concat(x[::order], 1)\n",
      "/usr/local/lib/python3.8/dist-packages/statsmodels/regression/quantile_regression.py:190: IterationLimitWarning: Maximum number of iterations (1000) reached.\n",
      "  warnings.warn(\"Maximum number of iterations (\" + str(max_iter) +\n",
      "/usr/local/lib/python3.8/dist-packages/statsmodels/tsa/tsatools.py:142: FutureWarning: In a future version of pandas all arguments of concat except for the argument 'objs' will be keyword-only\n",
      "  x = pd.concat(x[::order], 1)\n",
      "/usr/local/lib/python3.8/dist-packages/statsmodels/regression/quantile_regression.py:190: IterationLimitWarning: Maximum number of iterations (1000) reached.\n",
      "  warnings.warn(\"Maximum number of iterations (\" + str(max_iter) +\n",
      "/usr/local/lib/python3.8/dist-packages/statsmodels/regression/quantile_regression.py:190: IterationLimitWarning: Maximum number of iterations (1000) reached.\n",
      "  warnings.warn(\"Maximum number of iterations (\" + str(max_iter) +\n",
      "/usr/local/lib/python3.8/dist-packages/statsmodels/regression/quantile_regression.py:190: IterationLimitWarning: Maximum number of iterations (1000) reached.\n",
      "  warnings.warn(\"Maximum number of iterations (\" + str(max_iter) +\n",
      "/usr/local/lib/python3.8/dist-packages/statsmodels/tsa/tsatools.py:142: FutureWarning: In a future version of pandas all arguments of concat except for the argument 'objs' will be keyword-only\n",
      "  x = pd.concat(x[::order], 1)\n",
      "/usr/local/lib/python3.8/dist-packages/statsmodels/regression/quantile_regression.py:190: IterationLimitWarning: Maximum number of iterations (1000) reached.\n",
      "  warnings.warn(\"Maximum number of iterations (\" + str(max_iter) +\n",
      "/usr/local/lib/python3.8/dist-packages/statsmodels/tsa/tsatools.py:142: FutureWarning: In a future version of pandas all arguments of concat except for the argument 'objs' will be keyword-only\n",
      "  x = pd.concat(x[::order], 1)\n",
      "/usr/local/lib/python3.8/dist-packages/statsmodels/tsa/tsatools.py:142: FutureWarning: In a future version of pandas all arguments of concat except for the argument 'objs' will be keyword-only\n",
      "  x = pd.concat(x[::order], 1)\n",
      "/usr/local/lib/python3.8/dist-packages/statsmodels/regression/quantile_regression.py:190: IterationLimitWarning: Maximum number of iterations (1000) reached.\n",
      "  warnings.warn(\"Maximum number of iterations (\" + str(max_iter) +\n",
      "/usr/local/lib/python3.8/dist-packages/statsmodels/tsa/tsatools.py:142: FutureWarning: In a future version of pandas all arguments of concat except for the argument 'objs' will be keyword-only\n",
      "  x = pd.concat(x[::order], 1)\n",
      "/usr/local/lib/python3.8/dist-packages/statsmodels/regression/quantile_regression.py:190: IterationLimitWarning: Maximum number of iterations (1000) reached.\n",
      "  warnings.warn(\"Maximum number of iterations (\" + str(max_iter) +\n",
      "/usr/local/lib/python3.8/dist-packages/statsmodels/tsa/tsatools.py:142: FutureWarning: In a future version of pandas all arguments of concat except for the argument 'objs' will be keyword-only\n",
      "  x = pd.concat(x[::order], 1)\n",
      "/usr/local/lib/python3.8/dist-packages/statsmodels/regression/quantile_regression.py:190: IterationLimitWarning: Maximum number of iterations (1000) reached.\n",
      "  warnings.warn(\"Maximum number of iterations (\" + str(max_iter) +\n",
      "/usr/local/lib/python3.8/dist-packages/statsmodels/tsa/tsatools.py:142: FutureWarning: In a future version of pandas all arguments of concat except for the argument 'objs' will be keyword-only\n",
      "  x = pd.concat(x[::order], 1)\n",
      "/usr/local/lib/python3.8/dist-packages/statsmodels/regression/quantile_regression.py:190: IterationLimitWarning: Maximum number of iterations (1000) reached.\n",
      "  warnings.warn(\"Maximum number of iterations (\" + str(max_iter) +\n",
      "/usr/local/lib/python3.8/dist-packages/statsmodels/regression/quantile_regression.py:190: IterationLimitWarning: Maximum number of iterations (1000) reached.\n",
      "  warnings.warn(\"Maximum number of iterations (\" + str(max_iter) +\n",
      "/usr/local/lib/python3.8/dist-packages/statsmodels/tsa/tsatools.py:142: FutureWarning: In a future version of pandas all arguments of concat except for the argument 'objs' will be keyword-only\n",
      "  x = pd.concat(x[::order], 1)\n",
      "/usr/local/lib/python3.8/dist-packages/statsmodels/tsa/tsatools.py:142: FutureWarning: In a future version of pandas all arguments of concat except for the argument 'objs' will be keyword-only\n",
      "  x = pd.concat(x[::order], 1)\n",
      "/usr/local/lib/python3.8/dist-packages/statsmodels/regression/quantile_regression.py:190: IterationLimitWarning: Maximum number of iterations (1000) reached.\n",
      "  warnings.warn(\"Maximum number of iterations (\" + str(max_iter) +\n",
      "/usr/local/lib/python3.8/dist-packages/statsmodels/tsa/tsatools.py:142: FutureWarning: In a future version of pandas all arguments of concat except for the argument 'objs' will be keyword-only\n",
      "  x = pd.concat(x[::order], 1)\n",
      "/usr/local/lib/python3.8/dist-packages/statsmodels/tsa/tsatools.py:142: FutureWarning: In a future version of pandas all arguments of concat except for the argument 'objs' will be keyword-only\n",
      "  x = pd.concat(x[::order], 1)\n",
      "/usr/local/lib/python3.8/dist-packages/statsmodels/regression/quantile_regression.py:190: IterationLimitWarning: Maximum number of iterations (1000) reached.\n",
      "  warnings.warn(\"Maximum number of iterations (\" + str(max_iter) +\n",
      "/usr/local/lib/python3.8/dist-packages/statsmodels/regression/quantile_regression.py:190: IterationLimitWarning: Maximum number of iterations (1000) reached.\n",
      "  warnings.warn(\"Maximum number of iterations (\" + str(max_iter) +\n",
      "/usr/local/lib/python3.8/dist-packages/statsmodels/tsa/tsatools.py:142: FutureWarning: In a future version of pandas all arguments of concat except for the argument 'objs' will be keyword-only\n",
      "  x = pd.concat(x[::order], 1)\n",
      "/usr/local/lib/python3.8/dist-packages/statsmodels/regression/quantile_regression.py:190: IterationLimitWarning: Maximum number of iterations (1000) reached.\n",
      "  warnings.warn(\"Maximum number of iterations (\" + str(max_iter) +\n",
      "/usr/local/lib/python3.8/dist-packages/statsmodels/regression/quantile_regression.py:190: IterationLimitWarning: Maximum number of iterations (1000) reached.\n",
      "  warnings.warn(\"Maximum number of iterations (\" + str(max_iter) +\n",
      "/usr/local/lib/python3.8/dist-packages/statsmodels/tsa/tsatools.py:142: FutureWarning: In a future version of pandas all arguments of concat except for the argument 'objs' will be keyword-only\n",
      "  x = pd.concat(x[::order], 1)\n",
      "/usr/local/lib/python3.8/dist-packages/statsmodels/regression/quantile_regression.py:190: IterationLimitWarning: Maximum number of iterations (1000) reached.\n",
      "  warnings.warn(\"Maximum number of iterations (\" + str(max_iter) +\n",
      "/usr/local/lib/python3.8/dist-packages/statsmodels/tsa/tsatools.py:142: FutureWarning: In a future version of pandas all arguments of concat except for the argument 'objs' will be keyword-only\n",
      "  x = pd.concat(x[::order], 1)\n",
      "/usr/local/lib/python3.8/dist-packages/statsmodels/tsa/tsatools.py:142: FutureWarning: In a future version of pandas all arguments of concat except for the argument 'objs' will be keyword-only\n",
      "  x = pd.concat(x[::order], 1)\n",
      "/usr/local/lib/python3.8/dist-packages/statsmodels/regression/quantile_regression.py:190: IterationLimitWarning: Maximum number of iterations (1000) reached.\n",
      "  warnings.warn(\"Maximum number of iterations (\" + str(max_iter) +\n",
      "/usr/local/lib/python3.8/dist-packages/statsmodels/tsa/tsatools.py:142: FutureWarning: In a future version of pandas all arguments of concat except for the argument 'objs' will be keyword-only\n",
      "  x = pd.concat(x[::order], 1)\n",
      "/usr/local/lib/python3.8/dist-packages/statsmodels/regression/quantile_regression.py:190: IterationLimitWarning: Maximum number of iterations (1000) reached.\n",
      "  warnings.warn(\"Maximum number of iterations (\" + str(max_iter) +\n",
      "/usr/local/lib/python3.8/dist-packages/statsmodels/tsa/tsatools.py:142: FutureWarning: In a future version of pandas all arguments of concat except for the argument 'objs' will be keyword-only\n",
      "  x = pd.concat(x[::order], 1)\n",
      "/usr/local/lib/python3.8/dist-packages/statsmodels/regression/quantile_regression.py:190: IterationLimitWarning: Maximum number of iterations (1000) reached.\n",
      "  warnings.warn(\"Maximum number of iterations (\" + str(max_iter) +\n",
      "/usr/local/lib/python3.8/dist-packages/statsmodels/regression/quantile_regression.py:190: IterationLimitWarning: Maximum number of iterations (1000) reached.\n",
      "  warnings.warn(\"Maximum number of iterations (\" + str(max_iter) +\n",
      "/usr/local/lib/python3.8/dist-packages/statsmodels/tsa/tsatools.py:142: FutureWarning: In a future version of pandas all arguments of concat except for the argument 'objs' will be keyword-only\n",
      "  x = pd.concat(x[::order], 1)\n",
      "/usr/local/lib/python3.8/dist-packages/statsmodels/tsa/tsatools.py:142: FutureWarning: In a future version of pandas all arguments of concat except for the argument 'objs' will be keyword-only\n",
      "  x = pd.concat(x[::order], 1)\n",
      "/usr/local/lib/python3.8/dist-packages/statsmodels/regression/quantile_regression.py:190: IterationLimitWarning: Maximum number of iterations (1000) reached.\n",
      "  warnings.warn(\"Maximum number of iterations (\" + str(max_iter) +\n",
      "/usr/local/lib/python3.8/dist-packages/statsmodels/tsa/tsatools.py:142: FutureWarning: In a future version of pandas all arguments of concat except for the argument 'objs' will be keyword-only\n",
      "  x = pd.concat(x[::order], 1)\n",
      "/usr/local/lib/python3.8/dist-packages/statsmodels/regression/quantile_regression.py:190: IterationLimitWarning: Maximum number of iterations (1000) reached.\n",
      "  warnings.warn(\"Maximum number of iterations (\" + str(max_iter) +\n",
      "/usr/local/lib/python3.8/dist-packages/statsmodels/tsa/tsatools.py:142: FutureWarning: In a future version of pandas all arguments of concat except for the argument 'objs' will be keyword-only\n",
      "  x = pd.concat(x[::order], 1)\n",
      "/usr/local/lib/python3.8/dist-packages/statsmodels/regression/quantile_regression.py:190: IterationLimitWarning: Maximum number of iterations (1000) reached.\n",
      "  warnings.warn(\"Maximum number of iterations (\" + str(max_iter) +\n",
      "/usr/local/lib/python3.8/dist-packages/statsmodels/regression/quantile_regression.py:190: IterationLimitWarning: Maximum number of iterations (1000) reached.\n",
      "  warnings.warn(\"Maximum number of iterations (\" + str(max_iter) +\n",
      "/usr/local/lib/python3.8/dist-packages/statsmodels/tsa/tsatools.py:142: FutureWarning: In a future version of pandas all arguments of concat except for the argument 'objs' will be keyword-only\n",
      "  x = pd.concat(x[::order], 1)\n",
      "/usr/local/lib/python3.8/dist-packages/statsmodels/regression/quantile_regression.py:190: IterationLimitWarning: Maximum number of iterations (1000) reached.\n",
      "  warnings.warn(\"Maximum number of iterations (\" + str(max_iter) +\n",
      "/usr/local/lib/python3.8/dist-packages/statsmodels/tsa/tsatools.py:142: FutureWarning: In a future version of pandas all arguments of concat except for the argument 'objs' will be keyword-only\n",
      "  x = pd.concat(x[::order], 1)\n",
      "/usr/local/lib/python3.8/dist-packages/statsmodels/regression/quantile_regression.py:190: IterationLimitWarning: Maximum number of iterations (1000) reached.\n",
      "  warnings.warn(\"Maximum number of iterations (\" + str(max_iter) +\n",
      "/usr/local/lib/python3.8/dist-packages/statsmodels/tsa/tsatools.py:142: FutureWarning: In a future version of pandas all arguments of concat except for the argument 'objs' will be keyword-only\n",
      "  x = pd.concat(x[::order], 1)\n",
      "/usr/local/lib/python3.8/dist-packages/statsmodels/tsa/tsatools.py:142: FutureWarning: In a future version of pandas all arguments of concat except for the argument 'objs' will be keyword-only\n",
      "  x = pd.concat(x[::order], 1)\n",
      "/usr/local/lib/python3.8/dist-packages/statsmodels/tsa/tsatools.py:142: FutureWarning: In a future version of pandas all arguments of concat except for the argument 'objs' will be keyword-only\n",
      "  x = pd.concat(x[::order], 1)\n",
      "/usr/local/lib/python3.8/dist-packages/statsmodels/regression/quantile_regression.py:190: IterationLimitWarning: Maximum number of iterations (1000) reached.\n",
      "  warnings.warn(\"Maximum number of iterations (\" + str(max_iter) +\n",
      "/usr/local/lib/python3.8/dist-packages/statsmodels/regression/quantile_regression.py:190: IterationLimitWarning: Maximum number of iterations (1000) reached.\n",
      "  warnings.warn(\"Maximum number of iterations (\" + str(max_iter) +\n",
      "/usr/local/lib/python3.8/dist-packages/statsmodels/tsa/tsatools.py:142: FutureWarning: In a future version of pandas all arguments of concat except for the argument 'objs' will be keyword-only\n",
      "  x = pd.concat(x[::order], 1)\n",
      "/usr/local/lib/python3.8/dist-packages/statsmodels/regression/quantile_regression.py:190: IterationLimitWarning: Maximum number of iterations (1000) reached.\n",
      "  warnings.warn(\"Maximum number of iterations (\" + str(max_iter) +\n",
      "/usr/local/lib/python3.8/dist-packages/statsmodels/tsa/tsatools.py:142: FutureWarning: In a future version of pandas all arguments of concat except for the argument 'objs' will be keyword-only\n",
      "  x = pd.concat(x[::order], 1)\n",
      "/usr/local/lib/python3.8/dist-packages/statsmodels/regression/quantile_regression.py:190: IterationLimitWarning: Maximum number of iterations (1000) reached.\n",
      "  warnings.warn(\"Maximum number of iterations (\" + str(max_iter) +\n",
      "/usr/local/lib/python3.8/dist-packages/statsmodels/regression/quantile_regression.py:190: IterationLimitWarning: Maximum number of iterations (1000) reached.\n",
      "  warnings.warn(\"Maximum number of iterations (\" + str(max_iter) +\n",
      "/usr/local/lib/python3.8/dist-packages/statsmodels/tsa/tsatools.py:142: FutureWarning: In a future version of pandas all arguments of concat except for the argument 'objs' will be keyword-only\n",
      "  x = pd.concat(x[::order], 1)\n"
     ]
    },
    {
     "name": "stdout",
     "output_type": "stream",
     "text": [
      "Belarus finished in: 415.69s\n"
     ]
    }
   ],
   "source": [
    "report, results = countryReport(qtar_model, quantiles, reps, levels, \n",
    "                                customReport=QTAR_CustomRport, dropColumns=drop)"
   ]
  },
  {
   "cell_type": "code",
   "execution_count": 46,
   "id": "resistant-style",
   "metadata": {},
   "outputs": [
    {
     "data": {
      "text/html": [
       "<div>\n",
       "<style scoped>\n",
       "    .dataframe tbody tr th:only-of-type {\n",
       "        vertical-align: middle;\n",
       "    }\n",
       "\n",
       "    .dataframe tbody tr th {\n",
       "        vertical-align: top;\n",
       "    }\n",
       "\n",
       "    .dataframe thead th {\n",
       "        text-align: right;\n",
       "    }\n",
       "</style>\n",
       "<table border=\"1\" class=\"dataframe\">\n",
       "  <thead>\n",
       "    <tr style=\"text-align: right;\">\n",
       "      <th></th>\n",
       "      <th>quantile</th>\n",
       "      <th>0.1</th>\n",
       "      <th>0.2</th>\n",
       "      <th>0.3</th>\n",
       "      <th>0.4</th>\n",
       "      <th>0.5</th>\n",
       "      <th>0.6</th>\n",
       "      <th>0.7</th>\n",
       "      <th>0.8</th>\n",
       "      <th>0.9</th>\n",
       "    </tr>\n",
       "    <tr>\n",
       "      <th>name</th>\n",
       "      <th></th>\n",
       "      <th></th>\n",
       "      <th></th>\n",
       "      <th></th>\n",
       "      <th></th>\n",
       "      <th></th>\n",
       "      <th></th>\n",
       "      <th></th>\n",
       "      <th></th>\n",
       "      <th></th>\n",
       "    </tr>\n",
       "  </thead>\n",
       "  <tbody>\n",
       "    <tr>\n",
       "      <th rowspan=\"5\" valign=\"top\">Belarus</th>\n",
       "      <th>α₀(τ)</th>\n",
       "      <td>8.98(0.16)</td>\n",
       "      <td>10.44(0.02)**</td>\n",
       "      <td>9.25(0.01)**</td>\n",
       "      <td>9.23(0.01)**</td>\n",
       "      <td>9.52(0.01)**</td>\n",
       "      <td>7.82(0.05)*</td>\n",
       "      <td>7.34(0.06)</td>\n",
       "      <td>4.8(0.27)</td>\n",
       "      <td>5.12(0.48)</td>\n",
       "    </tr>\n",
       "    <tr>\n",
       "      <th>ρ₁(τ)</th>\n",
       "      <td>0.89(0.16)</td>\n",
       "      <td>0.88(0.03)**</td>\n",
       "      <td>0.9(0.02)**</td>\n",
       "      <td>0.9(0.03)**</td>\n",
       "      <td>0.9(0.01)***</td>\n",
       "      <td>0.92(0.06)*</td>\n",
       "      <td>0.93(0.06)*</td>\n",
       "      <td>0.95(0.18)</td>\n",
       "      <td>0.95(0.37)</td>\n",
       "    </tr>\n",
       "    <tr>\n",
       "      <th>α₁(τ)</th>\n",
       "      <td>-0.0056(0.36)</td>\n",
       "      <td>-0.0091(0.1)*</td>\n",
       "      <td>-0.0008(0.43)</td>\n",
       "      <td>-0.0027(0.28)</td>\n",
       "      <td>-0.0054(0.17)</td>\n",
       "      <td>-0.0119(0.03)**</td>\n",
       "      <td>-0.0198(0.0)***</td>\n",
       "      <td>-0.0307(0.0)***</td>\n",
       "      <td>-0.0531(0.0)***</td>\n",
       "    </tr>\n",
       "    <tr>\n",
       "      <th>tₙ(τ)</th>\n",
       "      <td>-1.91(0.16)</td>\n",
       "      <td>-3.9(0.01)***</td>\n",
       "      <td>-4.1(0.01)***</td>\n",
       "      <td>-5.11(0.0)***</td>\n",
       "      <td>-4.8(0.0)***</td>\n",
       "      <td>-3.86(0.01)***</td>\n",
       "      <td>-2.92(0.09)*</td>\n",
       "      <td>-1.68(0.28)</td>\n",
       "      <td>-0.81(0.45)</td>\n",
       "    </tr>\n",
       "    <tr>\n",
       "      <th>QKS</th>\n",
       "      <td>5.11(0.01)***</td>\n",
       "      <td></td>\n",
       "      <td></td>\n",
       "      <td></td>\n",
       "      <td></td>\n",
       "      <td></td>\n",
       "      <td></td>\n",
       "      <td></td>\n",
       "      <td></td>\n",
       "    </tr>\n",
       "  </tbody>\n",
       "</table>\n",
       "</div>"
      ],
      "text/plain": [
       "quantile                 0.1            0.2            0.3            0.4  \\\n",
       "name                                                                        \n",
       "Belarus α₀(τ)     8.98(0.16)  10.44(0.02)**   9.25(0.01)**   9.23(0.01)**   \n",
       "        ρ₁(τ)     0.89(0.16)   0.88(0.03)**    0.9(0.02)**    0.9(0.03)**   \n",
       "        α₁(τ)  -0.0056(0.36)  -0.0091(0.1)*  -0.0008(0.43)  -0.0027(0.28)   \n",
       "        tₙ(τ)    -1.91(0.16)  -3.9(0.01)***  -4.1(0.01)***  -5.11(0.0)***   \n",
       "        QKS    5.11(0.01)***                                                \n",
       "\n",
       "quantile                 0.5              0.6              0.7  \\\n",
       "name                                                             \n",
       "Belarus α₀(τ)   9.52(0.01)**      7.82(0.05)*       7.34(0.06)   \n",
       "        ρ₁(τ)   0.9(0.01)***      0.92(0.06)*      0.93(0.06)*   \n",
       "        α₁(τ)  -0.0054(0.17)  -0.0119(0.03)**  -0.0198(0.0)***   \n",
       "        tₙ(τ)   -4.8(0.0)***   -3.86(0.01)***     -2.92(0.09)*   \n",
       "        QKS                                                      \n",
       "\n",
       "quantile                   0.8              0.9  \n",
       "name                                             \n",
       "Belarus α₀(τ)        4.8(0.27)       5.12(0.48)  \n",
       "        ρ₁(τ)       0.95(0.18)       0.95(0.37)  \n",
       "        α₁(τ)  -0.0307(0.0)***  -0.0531(0.0)***  \n",
       "        tₙ(τ)      -1.68(0.28)      -0.81(0.45)  \n",
       "        QKS                                      "
      ]
     },
     "execution_count": 46,
     "metadata": {},
     "output_type": "execute_result"
    }
   ],
   "source": [
    "report"
   ]
  },
  {
   "cell_type": "code",
   "execution_count": null,
   "id": "36379c05-9358-42e4-9799-5f33af47830e",
   "metadata": {},
   "outputs": [],
   "source": []
  }
 ],
 "metadata": {
  "colab": {
   "collapsed_sections": [
    "pPvwiDOOhONH",
    "asian-playlist",
    "signal-reunion",
    "banner-balloon",
    "acknowledged-management",
    "center-scout",
    "sorted-trademark"
   ],
   "name": "PPP in EAEU.ipynb",
   "provenance": []
  },
  "hide_input": false,
  "kernelspec": {
   "display_name": "Python 3 (ipykernel)",
   "language": "python",
   "name": "python3"
  },
  "language_info": {
   "codemirror_mode": {
    "name": "ipython",
    "version": 3
   },
   "file_extension": ".py",
   "mimetype": "text/x-python",
   "name": "python",
   "nbconvert_exporter": "python",
   "pygments_lexer": "ipython3",
   "version": "3.8.10"
  },
  "latex_envs": {
   "LaTeX_envs_menu_present": true,
   "autoclose": false,
   "autocomplete": true,
   "bibliofile": "biblio.bib",
   "cite_by": "apalike",
   "current_citInitial": 1,
   "eqLabelWithNumbers": true,
   "eqNumInitial": 1,
   "hotkeys": {
    "equation": "Ctrl-E",
    "itemize": "Ctrl-I"
   },
   "labels_anchors": false,
   "latex_user_defs": false,
   "report_style_numbering": false,
   "user_envs_cfg": false
  },
  "toc": {
   "base_numbering": 1,
   "nav_menu": {},
   "number_sections": true,
   "sideBar": true,
   "skip_h1_title": false,
   "title_cell": "Table of Contents",
   "title_sidebar": "Contents",
   "toc_cell": false,
   "toc_position": {},
   "toc_section_display": true,
   "toc_window_display": false
  },
  "varInspector": {
   "cols": {
    "lenName": 16,
    "lenType": 16,
    "lenVar": 40
   },
   "kernels_config": {
    "python": {
     "delete_cmd_postfix": "",
     "delete_cmd_prefix": "del ",
     "library": "var_list.py",
     "varRefreshCmd": "print(var_dic_list())"
    },
    "r": {
     "delete_cmd_postfix": ") ",
     "delete_cmd_prefix": "rm(",
     "library": "var_list.r",
     "varRefreshCmd": "cat(var_dic_list()) "
    }
   },
   "types_to_exclude": [
    "module",
    "function",
    "builtin_function_or_method",
    "instance",
    "_Feature"
   ],
   "window_display": false
  }
 },
 "nbformat": 4,
 "nbformat_minor": 5
}
