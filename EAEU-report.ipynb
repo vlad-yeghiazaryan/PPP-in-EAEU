{
 "cells": [
  {
   "cell_type": "markdown",
   "metadata": {
    "heading_collapsed": true
   },
   "source": [
    "### Setup"
   ]
  },
  {
   "cell_type": "code",
   "execution_count": 1,
   "metadata": {
    "hidden": true,
    "init_cell": true
   },
   "outputs": [],
   "source": [
    "# Main\n",
    "import numpy as np\n",
    "import pandas as pd\n",
    "\n",
    "# Unit root\n",
    "from quantileADF import QADF\n",
    "from quantileTAR import QTAR, QTAR_CustomRport\n",
    "from report import countryReport, reportCountries\n",
    "\n",
    "# Utilities\n",
    "import warnings\n",
    "from statsmodels.tools.sm_exceptions import IterationLimitWarning\n",
    "warnings.simplefilter('ignore', IterationLimitWarning)\n",
    "pd.set_option('display.max_rows', 500)"
   ]
  },
  {
   "cell_type": "code",
   "execution_count": 2,
   "metadata": {
    "hidden": true,
    "init_cell": true,
    "scrolled": true
   },
   "outputs": [
    {
     "name": "stdout",
     "output_type": "stream",
     "text": [
      "<class 'pandas.core.frame.DataFrame'>\n",
      "DatetimeIndex: 252 entries, 2000-01-01 to 2020-12-01\n",
      "Freq: MS\n",
      "Data columns (total 5 columns):\n",
      " #   Column              Non-Null Count  Dtype  \n",
      "---  ------              --------------  -----  \n",
      " 0   Armenia             252 non-null    float64\n",
      " 1   Belarus             252 non-null    float64\n",
      " 2   Kazakhstan          252 non-null    float64\n",
      " 3   Kyrgyz Republic     252 non-null    float64\n",
      " 4   Russian Federation  252 non-null    float64\n",
      "dtypes: float64(5)\n",
      "memory usage: 11.8 KB\n"
     ]
    }
   ],
   "source": [
    "data1995 = pd.read_pickle('data/dataset1995.pkl')\n",
    "data2000 = pd.read_pickle('data/dataset2000.pkl')\n",
    "\n",
    "data2000.info()"
   ]
  },
  {
   "cell_type": "code",
   "execution_count": 3,
   "metadata": {
    "hidden": true,
    "init_cell": true
   },
   "outputs": [],
   "source": [
    "# Changing data\n",
    "dataLogs1995 = data1995.apply(np.log, axis=1)\n",
    "dataLogs2000 = data2000.apply(np.log, axis=1)"
   ]
  },
  {
   "cell_type": "markdown",
   "metadata": {
    "heading_collapsed": true
   },
   "source": [
    "### Report (defaultBase:2000)"
   ]
  },
  {
   "cell_type": "code",
   "execution_count": 7,
   "metadata": {
    "hidden": true
   },
   "outputs": [
    {
     "data": {
      "text/html": [
       "<div>\n",
       "<style scoped>\n",
       "    .dataframe tbody tr th:only-of-type {\n",
       "        vertical-align: middle;\n",
       "    }\n",
       "\n",
       "    .dataframe tbody tr th {\n",
       "        vertical-align: top;\n",
       "    }\n",
       "\n",
       "    .dataframe thead th {\n",
       "        text-align: right;\n",
       "    }\n",
       "</style>\n",
       "<table border=\"1\" class=\"dataframe\">\n",
       "  <thead>\n",
       "    <tr style=\"text-align: right;\">\n",
       "      <th></th>\n",
       "      <th>Armenia</th>\n",
       "      <th>Belarus</th>\n",
       "      <th>Kazakhstan</th>\n",
       "      <th>Kyrgyz Republic</th>\n",
       "      <th>Russian Federation</th>\n",
       "    </tr>\n",
       "    <tr>\n",
       "      <th>Date</th>\n",
       "      <th></th>\n",
       "      <th></th>\n",
       "      <th></th>\n",
       "      <th></th>\n",
       "      <th></th>\n",
       "    </tr>\n",
       "  </thead>\n",
       "  <tbody>\n",
       "    <tr>\n",
       "      <th>2000-01-01</th>\n",
       "      <td>4.605170</td>\n",
       "      <td>4.605170</td>\n",
       "      <td>4.60517</td>\n",
       "      <td>4.605170</td>\n",
       "      <td>4.605170</td>\n",
       "    </tr>\n",
       "    <tr>\n",
       "      <th>2000-02-01</th>\n",
       "      <td>4.618547</td>\n",
       "      <td>4.503707</td>\n",
       "      <td>4.61323</td>\n",
       "      <td>4.609275</td>\n",
       "      <td>4.616659</td>\n",
       "    </tr>\n",
       "  </tbody>\n",
       "</table>\n",
       "</div>"
      ],
      "text/plain": [
       "             Armenia   Belarus  Kazakhstan  Kyrgyz Republic  \\\n",
       "Date                                                          \n",
       "2000-01-01  4.605170  4.605170     4.60517         4.605170   \n",
       "2000-02-01  4.618547  4.503707     4.61323         4.609275   \n",
       "\n",
       "            Russian Federation  \n",
       "Date                            \n",
       "2000-01-01            4.605170  \n",
       "2000-02-01            4.616659  "
      ]
     },
     "execution_count": 7,
     "metadata": {},
     "output_type": "execute_result"
    }
   ],
   "source": [
    "dataLogs2000.head(2)"
   ]
  },
  {
   "cell_type": "code",
   "execution_count": 44,
   "metadata": {
    "hidden": true
   },
   "outputs": [],
   "source": [
    "# Broad EAEU logs reports\n",
    "levels = [0.01,0.05,0.1]\n",
    "quantiles = np.arange(0.1, 1, 0.1)\n",
    "EAEU = pd.Series((dataLogs2000.index >= '2015-01-01').astype(int), index=dataLogs2000.index, name='EAEU')\n",
    "dropQAR = ['δ²', 'Lags', 'α₀(τ)', 'ρ₁(OLS)', 'CV1%', 'CV5%', 'CV10%']\n",
    "dropQTAR = ['δ²', 'Lags', 'α₀(τ)']\n",
    "qadfParams =  {'model':'c', 'pmax':12, 'ic':'AIC'}\n",
    "qtarParams =  {'threshold_dummy':EAEU, 'model':'c', 'pmax':12, 'ic':'AIC'}\n",
    "reps = 10"
   ]
  },
  {
   "cell_type": "code",
   "execution_count": 16,
   "metadata": {
    "hidden": true
   },
   "outputs": [
    {
     "name": "stdout",
     "output_type": "stream",
     "text": [
      "Starting Execution:\n",
      "\n",
      "Armenia finished in: 10.97s\n",
      "Belarus finished in: 15.71s\n",
      "Kazakhstan finished in: 9.08s\n",
      "Kyrgyz Republic finished in: 9.36s\n",
      "Russian Federation finished in: 10.68s\n",
      "\n",
      "Total time spent executing: 0m, 56s\n"
     ]
    }
   ],
   "source": [
    "QAR_logResults_C, QAR_logReport_C = reportCountries(dataLogs2000, QADF, qadfParams, quantiles, \n",
    "                                                    reps, levels, dropColumns=dropQAR)\n",
    "QAR_logReport_C.to_excel('Outputs/QAR_logReport(C).xlsx', float_format=\"%.3f\")"
   ]
  },
  {
   "cell_type": "code",
   "execution_count": 20,
   "metadata": {
    "hidden": true
   },
   "outputs": [
    {
     "name": "stdout",
     "output_type": "stream",
     "text": [
      "Starting Execution:\n",
      "\n",
      "Armenia finished in: 12.45s\n",
      "Belarus finished in: 16.95s\n",
      "Kazakhstan finished in: 11.29s\n",
      "Kyrgyz Republic finished in: 11.75s\n",
      "Russian Federation finished in: 13.2s\n",
      "\n",
      "Total time spent executing: 1m, 6s\n"
     ]
    }
   ],
   "source": [
    "qadfParams['model'] = 'ct'\n",
    "QAR_logResults_CT, QAR_logReport_CT = reportCountries(dataLogs2000, QADF, qadfParams, quantiles, \n",
    "                                                      reps, levels, dropColumns=drop)\n",
    "QAR_logReport_CT.to_excel('Outputs/QAR_logReport(C&T).xlsx', float_format=\"%.3f\")"
   ]
  },
  {
   "cell_type": "code",
   "execution_count": 38,
   "metadata": {
    "hidden": true
   },
   "outputs": [
    {
     "name": "stdout",
     "output_type": "stream",
     "text": [
      "Starting Execution:\n",
      "\n",
      "Armenia finished in: 8.42s\n",
      "Belarus finished in: 17.93s\n",
      "Kazakhstan finished in: 7.75s\n",
      "Kyrgyz Republic finished in: 10.67s\n",
      "Russian Federation finished in: 11.86s\n",
      "\n",
      "Total time spent executing: 0m, 57s\n"
     ]
    }
   ],
   "source": [
    "QTAR_logResults_C, QTAR_logReport_C = reportCountries(dataLogs2000, QTAR, qtarParams, quantiles, reps, levels, \n",
    "                                                      customReport=QTAR_CustomRport, dropColumns=dropQTAR)\n",
    "QTAR_logReport_C.to_excel('Outputs/QTAR_logReport(C).xlsx', float_format=\"%.3f\")"
   ]
  },
  {
   "cell_type": "code",
   "execution_count": 40,
   "metadata": {
    "hidden": true,
    "scrolled": true
   },
   "outputs": [
    {
     "name": "stdout",
     "output_type": "stream",
     "text": [
      "Starting Execution:\n",
      "\n",
      "Armenia finished in: 11.26s\n",
      "Belarus finished in: 19.36s\n",
      "Kazakhstan finished in: 16.52s\n",
      "Kyrgyz Republic finished in: 10.65s\n",
      "Russian Federation finished in: 12.79s\n",
      "\n",
      "Total time spent executing: 1m, 11s\n"
     ]
    }
   ],
   "source": [
    "qtarParams['model'] = 'ct'\n",
    "QTAR_logResults_CT, QTAR_logReport_CT = reportCountries(dataLogs2000, QTAR, qtarParams, quantiles, reps, levels, \n",
    "                                                        customReport=QTAR_CustomRport, dropColumns=dropQTAR)\n",
    "QTAR_logReport_CT.to_excel('Outputs/QTAR_logReport(C&T).xlsx', float_format=\"%.3f\")"
   ]
  },
  {
   "cell_type": "code",
   "execution_count": null,
   "metadata": {
    "hidden": true
   },
   "outputs": [],
   "source": []
  },
  {
   "cell_type": "markdown",
   "metadata": {},
   "source": [
    "### Report (1995)"
   ]
  },
  {
   "cell_type": "code",
   "execution_count": 45,
   "metadata": {},
   "outputs": [],
   "source": [
    "# Broad EAEU logs reports 1995 base year\n",
    "levels = [0.01,0.05,0.1]\n",
    "quantiles = np.arange(0.1, 1, 0.1)\n",
    "EAEU = pd.Series((dataLogs1995.index >= '2015-01-01').astype(int), index=dataLogs1995.index, name='EAEU')\n",
    "dropQAR = ['δ²', 'Lags', 'α₀(τ)', 'ρ₁(OLS)', 'CV1%', 'CV5%', 'CV10%']\n",
    "dropQTAR = ['δ²', 'Lags', 'α₀(τ)']\n",
    "qadfParams =  {'model':'c', 'pmax':12, 'ic':'AIC'}\n",
    "qtarParams =  {'threshold_dummy':EAEU, 'model':'c', 'pmax':12, 'ic':'AIC'}\n",
    "reps = 10"
   ]
  },
  {
   "cell_type": "code",
   "execution_count": 46,
   "metadata": {},
   "outputs": [
    {
     "name": "stdout",
     "output_type": "stream",
     "text": [
      "Starting Execution:\n",
      "\n",
      "Armenia finished in: 9.71s\n",
      "Belarus finished in: 23.36s\n",
      "Kazakhstan finished in: 9.5s\n",
      "Kyrgyz Republic finished in: 11.11s\n",
      "Russian Federation finished in: 10.25s\n",
      "\n",
      "Total time spent executing: 1m, 4s\n"
     ]
    }
   ],
   "source": [
    "QAR_logResults1995_C, QAR_logReport1995_C = reportCountries(dataLogs1995, QADF, qadfParams, quantiles,\n",
    "                                                            reps, levels, dropColumns=dropQAR)\n",
    "QAR_logReport1995_C.to_excel('Outputs/results1995/QAR_logReport1995(C).xlsx', float_format=\"%.3f\")"
   ]
  },
  {
   "cell_type": "code",
   "execution_count": 47,
   "metadata": {},
   "outputs": [
    {
     "name": "stdout",
     "output_type": "stream",
     "text": [
      "Starting Execution:\n",
      "\n",
      "Armenia finished in: 11.0s\n",
      "Belarus finished in: 26.74s\n",
      "Kazakhstan finished in: 10.4s\n",
      "Kyrgyz Republic finished in: 11.67s\n",
      "Russian Federation finished in: 12.74s\n",
      "\n",
      "Total time spent executing: 1m, 13s\n"
     ]
    }
   ],
   "source": [
    "qadfParams['model'] = 'ct'\n",
    "QAR_logResults1995_CT, QAR_logReport1995_CT = reportCountries(dataLogs1995, QADF, qadfParams, quantiles,\n",
    "                                                              reps, levels, dropColumns=drop)\n",
    "QAR_logReport1995_CT.to_excel('Outputs/results1995/QAR_logReport1995(C&T).xlsx', float_format=\"%.3f\")"
   ]
  },
  {
   "cell_type": "code",
   "execution_count": 48,
   "metadata": {},
   "outputs": [
    {
     "name": "stdout",
     "output_type": "stream",
     "text": [
      "Starting Execution:\n",
      "\n",
      "Armenia finished in: 9.68s\n",
      "Belarus finished in: 24.97s\n",
      "Kazakhstan finished in: 9.63s\n",
      "Kyrgyz Republic finished in: 11.68s\n",
      "Russian Federation finished in: 13.3s\n",
      "\n",
      "Total time spent executing: 1m, 9s\n"
     ]
    }
   ],
   "source": [
    "QTAR_logResults1995_C, QTAR_logReport1995_C = reportCountries(dataLogs1995, QTAR, qtarParams, quantiles, reps, levels,\n",
    "                                                              customReport=QTAR_CustomRport, dropColumns=dropQTAR)\n",
    "QTAR_logReport1995_C.to_excel('Outputs/results1995/QTAR_logReport1995(C).xlsx', float_format=\"%.3f\")"
   ]
  },
  {
   "cell_type": "code",
   "execution_count": 49,
   "metadata": {},
   "outputs": [
    {
     "name": "stdout",
     "output_type": "stream",
     "text": [
      "Starting Execution:\n",
      "\n",
      "Armenia finished in: 11.71s\n",
      "Belarus finished in: 24.95s\n",
      "Kazakhstan finished in: 12.45s\n",
      "Kyrgyz Republic finished in: 11.97s\n",
      "Russian Federation finished in: 10.46s\n",
      "\n",
      "Total time spent executing: 1m, 12s\n"
     ]
    }
   ],
   "source": [
    "qtarParams['model'] = 'ct'\n",
    "QTAR_logResults1995_CT, QTAR_logReport1995_CT = reportCountries(dataLogs1995, QTAR, qtarParams, quantiles, reps,\n",
    "                                                                levels, customReport=QTAR_CustomRport,\n",
    "                                                                dropColumns=dropQTAR)\n",
    "QTAR_logReport1995_CT.to_excel('Outputs/results1995/QTAR_logReport1995(C&T).xlsx', float_format=\"%.3f\")"
   ]
  },
  {
   "cell_type": "code",
   "execution_count": null,
   "metadata": {},
   "outputs": [],
   "source": []
  },
  {
   "cell_type": "code",
   "execution_count": null,
   "metadata": {},
   "outputs": [],
   "source": []
  }
 ],
 "metadata": {
  "hide_input": false,
  "kernelspec": {
   "display_name": "Python 3",
   "language": "python",
   "name": "python3"
  },
  "language_info": {
   "codemirror_mode": {
    "name": "ipython",
    "version": 3
   },
   "file_extension": ".py",
   "mimetype": "text/x-python",
   "name": "python",
   "nbconvert_exporter": "python",
   "pygments_lexer": "ipython3",
   "version": "3.8.2"
  },
  "latex_envs": {
   "LaTeX_envs_menu_present": true,
   "autoclose": false,
   "autocomplete": true,
   "bibliofile": "biblio.bib",
   "cite_by": "apalike",
   "current_citInitial": 1,
   "eqLabelWithNumbers": true,
   "eqNumInitial": 1,
   "hotkeys": {
    "equation": "Ctrl-E",
    "itemize": "Ctrl-I"
   },
   "labels_anchors": false,
   "latex_user_defs": false,
   "report_style_numbering": false,
   "user_envs_cfg": false
  },
  "toc": {
   "base_numbering": 1,
   "nav_menu": {},
   "number_sections": true,
   "sideBar": true,
   "skip_h1_title": false,
   "title_cell": "Table of Contents",
   "title_sidebar": "Contents",
   "toc_cell": false,
   "toc_position": {},
   "toc_section_display": true,
   "toc_window_display": false
  },
  "varInspector": {
   "cols": {
    "lenName": 16,
    "lenType": 16,
    "lenVar": 40
   },
   "kernels_config": {
    "python": {
     "delete_cmd_postfix": "",
     "delete_cmd_prefix": "del ",
     "library": "var_list.py",
     "varRefreshCmd": "print(var_dic_list())"
    },
    "r": {
     "delete_cmd_postfix": ") ",
     "delete_cmd_prefix": "rm(",
     "library": "var_list.r",
     "varRefreshCmd": "cat(var_dic_list()) "
    }
   },
   "types_to_exclude": [
    "module",
    "function",
    "builtin_function_or_method",
    "instance",
    "_Feature"
   ],
   "window_display": false
  }
 },
 "nbformat": 4,
 "nbformat_minor": 1
}
