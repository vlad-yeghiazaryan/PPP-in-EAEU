{
  "cells":[
    {
      "cell_type":"markdown",
      "source":[
        "### Setup"
      ],
      "metadata":{
        
      }
    },
    {
      "cell_type":"code",
      "source":[
        "# Main\n",
        "import numpy as np\n",
        "import pandas as pd\n",
        "\n",
        "# Unit root\n",
        "from quantileADF import QADF\n",
        "from report import countryReport, reportCountries\n",
        "\n",
        "# Utilities\n",
        "import warnings\n",
        "from statsmodels.tools.sm_exceptions import IterationLimitWarning\n",
        "warnings.simplefilter('ignore', IterationLimitWarning)\n",
        "pd.set_option('display.max_rows', 500)\n",
        "\n",
        "# Setting up Urls\n",
        "repoUrl = 'https:\/\/raw.githubusercontent.com\/vlad-yeghiazaryan\/QADF\/master\/data\/'\n",
        "datasetUrl = repoUrl + 'dataset.csv'\n",
        "broadREERsUrl = repoUrl + 'broadREERs.csv'\n",
        "narrowREERsUrl = repoUrl + 'narrowREERs.csv'"
      ],
      "execution_count":1,
      "outputs":[
        
      ],
      "metadata":{
        
      }
    },
    {
      "cell_type":"markdown",
      "source":[
        "### Report"
      ],
      "metadata":{
        
      }
    },
    {
      "cell_type":"code",
      "source":[
        "broadREERs = pd.read_csv(broadREERsUrl, index_col=0, parse_dates=True)\n",
        "narrowREERs = pd.read_csv(narrowREERsUrl, index_col=0, parse_dates=True)\n",
        "\n",
        "# Extracting country information\n",
        "countries = ['Armenia', 'Belarus', 'Kazakhstan', 'Kyrgyz Republic',\n",
        "             'Moldova', 'Russian Federation', 'Tajikistan', 'Ukraine']\n",
        "\n",
        "startDate = '2000-01-01'\n",
        "startDateWithoutTaj = '1995-01-01'\n",
        "\n",
        "dataNarrow =  narrowREERs[countries].loc[startDate:]\n",
        "dataNarrow.index.freq = 'MS'\n",
        "\n",
        "data = broadREERs[countries].loc[startDate:]\n",
        "data.index.freq = 'MS'\n",
        "\n",
        "data.info()"
      ],
      "execution_count":2,
      "outputs":[
        {
          "name":"stdout",
          "text":[
            "<class 'pandas.core.frame.DataFrame'>\n",
            "DatetimeIndex: 251 entries, 2000-01-01 to 2020-11-01\n",
            "Freq: MS\n",
            "Data columns (total 8 columns):\n",
            " #   Column              Non-Null Count  Dtype  \n",
            "---  ------              --------------  -----  \n",
            " 0   Armenia             251 non-null    float64\n",
            " 1   Belarus             251 non-null    float64\n",
            " 2   Kazakhstan          251 non-null    float64\n",
            " 3   Kyrgyz Republic     251 non-null    float64\n",
            " 4   Moldova             251 non-null    float64\n",
            " 5   Russian Federation  251 non-null    float64\n",
            " 6   Tajikistan          251 non-null    float64\n",
            " 7   Ukraine             251 non-null    float64\n",
            "dtypes: float64(8)\n",
            "memory usage: 17.6 KB\n"
          ],
          "output_type":"stream"
        }
      ],
      "metadata":{
        
      }
    },
    {
      "cell_type":"code",
      "source":[
        "data.head(2)"
      ],
      "execution_count":3,
      "outputs":[
        {
          "data":{
            "text\/html":[
              "<div>\n",
              "<style scoped>\n",
              "    .dataframe tbody tr th:only-of-type {\n",
              "        vertical-align: middle;\n",
              "    }\n",
              "\n",
              "    .dataframe tbody tr th {\n",
              "        vertical-align: top;\n",
              "    }\n",
              "\n",
              "    .dataframe thead th {\n",
              "        text-align: right;\n",
              "    }\n",
              "<\/style>\n",
              "<table border=\"1\" class=\"dataframe\">\n",
              "  <thead>\n",
              "    <tr style=\"text-align: right;\">\n",
              "      <th><\/th>\n",
              "      <th>Armenia<\/th>\n",
              "      <th>Belarus<\/th>\n",
              "      <th>Kazakhstan<\/th>\n",
              "      <th>Kyrgyz Republic<\/th>\n",
              "      <th>Moldova<\/th>\n",
              "      <th>Russian Federation<\/th>\n",
              "      <th>Tajikistan<\/th>\n",
              "      <th>Ukraine<\/th>\n",
              "    <\/tr>\n",
              "    <tr>\n",
              "      <th>Date<\/th>\n",
              "      <th><\/th>\n",
              "      <th><\/th>\n",
              "      <th><\/th>\n",
              "      <th><\/th>\n",
              "      <th><\/th>\n",
              "      <th><\/th>\n",
              "      <th><\/th>\n",
              "      <th><\/th>\n",
              "    <\/tr>\n",
              "  <\/thead>\n",
              "  <tbody>\n",
              "    <tr>\n",
              "      <th>2000-01-01<\/th>\n",
              "      <td>67.584163<\/td>\n",
              "      <td>121.249657<\/td>\n",
              "      <td>77.580923<\/td>\n",
              "      <td>76.395403<\/td>\n",
              "      <td>67.088115<\/td>\n",
              "      <td>47.243677<\/td>\n",
              "      <td>110.087088<\/td>\n",
              "      <td>74.340017<\/td>\n",
              "    <\/tr>\n",
              "    <tr>\n",
              "      <th>2000-02-01<\/th>\n",
              "      <td>68.494432<\/td>\n",
              "      <td>109.552717<\/td>\n",
              "      <td>78.210787<\/td>\n",
              "      <td>76.987894<\/td>\n",
              "      <td>66.917751<\/td>\n",
              "      <td>47.791244<\/td>\n",
              "      <td>109.455091<\/td>\n",
              "      <td>75.456058<\/td>\n",
              "    <\/tr>\n",
              "  <\/tbody>\n",
              "<\/table>\n",
              "<\/div>"
            ]
          },
          "metadata":{
            
          },
          "output_type":"display_data"
        }
      ],
      "metadata":{
        
      }
    },
    {
      "cell_type":"code",
      "source":[
        "levels=[0.01,0.05,0.1]\n",
        "quantiles = np.arange(0.1, 1, 0.1)\n",
        "drop = ['δ²', 'Lags', 'ρ₁(OLS)', 'CV1%', 'CV5%', 'CV10%']\n",
        "qadf = QADF(model='c', pmax=12, ic='AIC')\n",
        "reps = 1000\n",
        "logDataEAEU = data.apply(np.log, axis=1).loc['2015-1-1':]\n",
        "logDataBeforeEAEU = data.apply(np.log, axis=1).loc[:'2014-12-1']\n",
        "logDataTransitionPeriod = data.apply(np.log, axis=1).loc['2012-1-1':'2015-12-1']"
      ],
      "execution_count":12,
      "outputs":[
        
      ],
      "metadata":{
        
      }
    },
    {
      "cell_type":"code",
      "source":[
        "# # Broad EAEU logs\n",
        "# logResults, logReport = reportCountries(data.apply(np.log, axis=1), qadf, quantiles, repetitions=reps, \n",
        "#                                   significanceLevels=levels, dropColumns=drop)\n",
        "# logReport.to_excel('Outputs\/logReport.xlsx', float_format=\"%.3f\")\n",
        "\n",
        "# # Broad EAEU logs (EAEU only)\n",
        "# EAEU_Results, EAEU_Report = reportCountries(logDataEAEU, qadf, quantiles, repetitions=reps, \n",
        "#                                   significanceLevels=levels, dropColumns=drop)\n",
        "# EAEU_Report.to_excel('Outputs\/EAEU_Report.xlsx', float_format=\"%.3f\")\n",
        "\n",
        "# Broad EAEU logs (before EAEU)\n",
        "beforeEAEU_Results, beforeEAEU_Report = reportCountries(logDataBeforeEAEU, qadf, quantiles, repetitions=reps, \n",
        "                                  significanceLevels=levels, dropColumns=drop)\n",
        "beforeEAEU_Report.to_excel('Outputs\/beforeEAEU_Report.xlsx', float_format=\"%.3f\")\n",
        "\n",
        "# Broad EAEU logs (transition period)\n",
        "transitionPeriod_Results, transitionPeriod_Report = reportCountries(logDataTransitionPeriod, qadf, quantiles, repetitions=reps, \n",
        "                                  significanceLevels=levels, dropColumns=drop)\n",
        "transitionPeriod_Report.to_excel('Outputs\/transitionPeriod_Report.xlsx', float_format=\"%.3f\")"
      ],
      "execution_count":10,
      "outputs":[
        {
          "name":"stdout",
          "text":[
            "Starting Execution:\n",
            "\n",
            "Armenia finished in: 1526.93s\n",
            "Belarus finished in: 4553.2s\n",
            "Kazakhstan finished in: 4030.31s\n",
            "Kyrgyz Republic finished in: 3751.13s\n",
            "Moldova finished in: 3904.17s\n",
            "Russian Federation finished in: 4090.89s\n",
            "Tajikistan finished in: 4195.3s\n",
            "Ukraine finished in: 7262.7s\n",
            "\n",
            "Total time spent executing: 555m, 15s\n",
            "Starting Execution:\n",
            "\n",
            "Armenia finished in: 4344.08s\n",
            "Belarus finished in: 6629.42s\n",
            "Kazakhstan finished in: 4478.38s\n",
            "Kyrgyz Republic finished in: 4293.23s\n",
            "Moldova finished in: 4579.58s\n"
          ],
          "output_type":"stream"
        }
      ],
      "metadata":{
        
      }
    },
    {
      "cell_type":"code",
      "source":[
        "EAEU_Report"
      ],
      "execution_count":13,
      "outputs":[
        
      ],
      "metadata":{
        
      }
    }
  ],
  "metadata":{
    
  },
  "nbformat":4,
  "nbformat_minor":0
}