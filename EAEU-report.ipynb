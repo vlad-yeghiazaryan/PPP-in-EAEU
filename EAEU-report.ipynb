{
 "cells": [
  {
   "cell_type": "markdown",
   "metadata": {},
   "source": [
    "### Setup"
   ]
  },
  {
   "cell_type": "code",
   "execution_count": 1,
   "metadata": {},
   "outputs": [],
   "source": [
    "# Main\n",
    "import numpy as np\n",
    "import pandas as pd\n",
    "\n",
    "# Unit root\n",
    "from quantileADF import QADF\n",
    "from report import countryReport, reportCountries\n",
    "\n",
    "# Utilities\n",
    "import warnings\n",
    "from statsmodels.tools.sm_exceptions import IterationLimitWarning\n",
    "warnings.simplefilter('ignore', IterationLimitWarning)\n",
    "pd.set_option('display.max_rows', 500)\n",
    "\n",
    "# Setting up Urls\n",
    "repoUrl = 'https://raw.githubusercontent.com/vlad-yeghiazaryan/QADF/master/data/'\n",
    "datasetUrl = repoUrl + 'dataset.csv'\n",
    "broadREERsUrl = repoUrl + 'broadREERs.csv'\n",
    "narrowREERsUrl = repoUrl + 'narrowREERs.csv'"
   ]
  },
  {
   "cell_type": "markdown",
   "metadata": {},
   "source": [
    "### Report"
   ]
  },
  {
   "cell_type": "code",
   "execution_count": 2,
   "metadata": {
    "scrolled": true
   },
   "outputs": [
    {
     "name": "stdout",
     "output_type": "stream",
     "text": [
      "<class 'pandas.core.frame.DataFrame'>\n",
      "DatetimeIndex: 251 entries, 2000-01-01 to 2020-11-01\n",
      "Freq: MS\n",
      "Data columns (total 8 columns):\n",
      " #   Column              Non-Null Count  Dtype  \n",
      "---  ------              --------------  -----  \n",
      " 0   Armenia             251 non-null    float64\n",
      " 1   Belarus             251 non-null    float64\n",
      " 2   Kazakhstan          251 non-null    float64\n",
      " 3   Kyrgyz Republic     251 non-null    float64\n",
      " 4   Moldova             251 non-null    float64\n",
      " 5   Russian Federation  251 non-null    float64\n",
      " 6   Tajikistan          251 non-null    float64\n",
      " 7   Ukraine             251 non-null    float64\n",
      "dtypes: float64(8)\n",
      "memory usage: 17.6 KB\n"
     ]
    }
   ],
   "source": [
    "broadREERs = pd.read_csv(broadREERsUrl, index_col=0, parse_dates=True)\n",
    "narrowREERs = pd.read_csv(narrowREERsUrl, index_col=0, parse_dates=True)\n",
    "\n",
    "# Extracting country information\n",
    "countries = ['Armenia', 'Belarus', 'Kazakhstan', 'Kyrgyz Republic',\n",
    "             'Moldova', 'Russian Federation', 'Tajikistan', 'Ukraine']\n",
    "\n",
    "startDate = '2000-01-01'\n",
    "startDateWithoutTaj = '1995-01-01'\n",
    "\n",
    "dataNarrow =  narrowREERs[countries].loc[startDate:]\n",
    "dataNarrow.index.freq = 'MS'\n",
    "\n",
    "data = broadREERs[countries].loc[startDate:]\n",
    "data.index.freq = 'MS'\n",
    "\n",
    "data.info()"
   ]
  },
  {
   "cell_type": "code",
   "execution_count": 3,
   "metadata": {},
   "outputs": [],
   "source": [
    "# renormalize REERs at 2000q1 = 100\n",
    "data = 100*data/data.iloc[0,:]\n",
    "\n",
    "# Changing data\n",
    "dataLogs = data.apply(np.log, axis=1)\n",
    "dataPtC = dataLogs.diff()[1:]"
   ]
  },
  {
   "cell_type": "code",
   "execution_count": 4,
   "metadata": {},
   "outputs": [
    {
     "data": {
      "text/html": [
       "<div>\n",
       "<style scoped>\n",
       "    .dataframe tbody tr th:only-of-type {\n",
       "        vertical-align: middle;\n",
       "    }\n",
       "\n",
       "    .dataframe tbody tr th {\n",
       "        vertical-align: top;\n",
       "    }\n",
       "\n",
       "    .dataframe thead th {\n",
       "        text-align: right;\n",
       "    }\n",
       "</style>\n",
       "<table border=\"1\" class=\"dataframe\">\n",
       "  <thead>\n",
       "    <tr style=\"text-align: right;\">\n",
       "      <th></th>\n",
       "      <th>Armenia</th>\n",
       "      <th>Belarus</th>\n",
       "      <th>Kazakhstan</th>\n",
       "      <th>Kyrgyz Republic</th>\n",
       "      <th>Moldova</th>\n",
       "      <th>Russian Federation</th>\n",
       "      <th>Tajikistan</th>\n",
       "      <th>Ukraine</th>\n",
       "    </tr>\n",
       "    <tr>\n",
       "      <th>Date</th>\n",
       "      <th></th>\n",
       "      <th></th>\n",
       "      <th></th>\n",
       "      <th></th>\n",
       "      <th></th>\n",
       "      <th></th>\n",
       "      <th></th>\n",
       "      <th></th>\n",
       "    </tr>\n",
       "  </thead>\n",
       "  <tbody>\n",
       "    <tr>\n",
       "      <th>2000-01-01</th>\n",
       "      <td>100.000000</td>\n",
       "      <td>100.000000</td>\n",
       "      <td>100.000000</td>\n",
       "      <td>100.000000</td>\n",
       "      <td>100.00000</td>\n",
       "      <td>100.000000</td>\n",
       "      <td>100.000000</td>\n",
       "      <td>100.000000</td>\n",
       "    </tr>\n",
       "    <tr>\n",
       "      <th>2000-02-01</th>\n",
       "      <td>101.346867</td>\n",
       "      <td>90.353012</td>\n",
       "      <td>100.811879</td>\n",
       "      <td>100.775559</td>\n",
       "      <td>99.74606</td>\n",
       "      <td>101.159028</td>\n",
       "      <td>99.425912</td>\n",
       "      <td>101.501266</td>\n",
       "    </tr>\n",
       "  </tbody>\n",
       "</table>\n",
       "</div>"
      ],
      "text/plain": [
       "               Armenia     Belarus  Kazakhstan  Kyrgyz Republic    Moldova  \\\n",
       "Date                                                                         \n",
       "2000-01-01  100.000000  100.000000  100.000000       100.000000  100.00000   \n",
       "2000-02-01  101.346867   90.353012  100.811879       100.775559   99.74606   \n",
       "\n",
       "            Russian Federation  Tajikistan     Ukraine  \n",
       "Date                                                    \n",
       "2000-01-01          100.000000  100.000000  100.000000  \n",
       "2000-02-01          101.159028   99.425912  101.501266  "
      ]
     },
     "execution_count": 4,
     "metadata": {},
     "output_type": "execute_result"
    }
   ],
   "source": [
    "data.head(2)"
   ]
  },
  {
   "cell_type": "code",
   "execution_count": 10,
   "metadata": {},
   "outputs": [],
   "source": [
    "# levels=[0.01,0.05,0.1]\n",
    "# quantiles = np.arange(0.1, 1, 0.1)\n",
    "# drop = ['δ²', 'Lags', 'ρ₁(OLS)', 'CV1%', 'CV5%', 'CV10%']\n",
    "# qadf = QADF(dataLogs, model='ct', pmax=12, ic='AIC')\n",
    "# reps = 10"
   ]
  },
  {
   "cell_type": "code",
   "execution_count": 9,
   "metadata": {},
   "outputs": [],
   "source": [
    "# # Broad EAEU logs\n",
    "# logResults, logReport = reportCountries(dataLogs, qadf, quantiles, repetitions=reps, \n",
    "#                                   significanceLevels=levels, dropColumns=drop)\n",
    "# logReport.to_excel('Outputs/logReport(C&T).xlsx', float_format=\"%.3f\")"
   ]
  },
  {
   "cell_type": "code",
   "execution_count": null,
   "metadata": {},
   "outputs": [],
   "source": []
  },
  {
   "cell_type": "code",
   "execution_count": null,
   "metadata": {},
   "outputs": [],
   "source": []
  }
 ],
 "metadata": {
  "hide_input": false,
  "kernelspec": {
   "display_name": "Python 3",
   "language": "python",
   "name": "python3"
  },
  "language_info": {
   "codemirror_mode": {
    "name": "ipython",
    "version": 3
   },
   "file_extension": ".py",
   "mimetype": "text/x-python",
   "name": "python",
   "nbconvert_exporter": "python",
   "pygments_lexer": "ipython3",
   "version": "3.8.2"
  },
  "latex_envs": {
   "LaTeX_envs_menu_present": true,
   "autoclose": false,
   "autocomplete": true,
   "bibliofile": "biblio.bib",
   "cite_by": "apalike",
   "current_citInitial": 1,
   "eqLabelWithNumbers": true,
   "eqNumInitial": 1,
   "hotkeys": {
    "equation": "Ctrl-E",
    "itemize": "Ctrl-I"
   },
   "labels_anchors": false,
   "latex_user_defs": false,
   "report_style_numbering": false,
   "user_envs_cfg": false
  },
  "toc": {
   "base_numbering": 1,
   "nav_menu": {},
   "number_sections": true,
   "sideBar": true,
   "skip_h1_title": false,
   "title_cell": "Table of Contents",
   "title_sidebar": "Contents",
   "toc_cell": false,
   "toc_position": {},
   "toc_section_display": true,
   "toc_window_display": false
  },
  "varInspector": {
   "cols": {
    "lenName": 16,
    "lenType": 16,
    "lenVar": 40
   },
   "kernels_config": {
    "python": {
     "delete_cmd_postfix": "",
     "delete_cmd_prefix": "del ",
     "library": "var_list.py",
     "varRefreshCmd": "print(var_dic_list())"
    },
    "r": {
     "delete_cmd_postfix": ") ",
     "delete_cmd_prefix": "rm(",
     "library": "var_list.r",
     "varRefreshCmd": "cat(var_dic_list()) "
    }
   },
   "types_to_exclude": [
    "module",
    "function",
    "builtin_function_or_method",
    "instance",
    "_Feature"
   ],
   "window_display": false
  }
 },
 "nbformat": 4,
 "nbformat_minor": 1
}
