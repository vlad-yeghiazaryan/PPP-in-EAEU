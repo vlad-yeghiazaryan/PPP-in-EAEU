{
 "cells": [
  {
   "cell_type": "markdown",
   "metadata": {
    "heading_collapsed": true
   },
   "source": [
    "### Setup"
   ]
  },
  {
   "cell_type": "code",
   "execution_count": 10,
   "metadata": {
    "hidden": true,
    "init_cell": true
   },
   "outputs": [],
   "source": [
    "# Main\n",
    "import numpy as np\n",
    "import pandas as pd\n",
    "\n",
    "# Unit root\n",
    "from quantileADF import QADF\n",
    "from quantileTAR import QTAR, QTAR_CustomRport\n",
    "from report import countryReport, reportCountries\n",
    "\n",
    "# Utilities\n",
    "import winsound\n",
    "import warnings\n",
    "from statsmodels.tools.sm_exceptions import IterationLimitWarning\n",
    "warnings.simplefilter('ignore', IterationLimitWarning)\n",
    "pd.set_option('display.max_rows', 500)"
   ]
  },
  {
   "cell_type": "code",
   "execution_count": 2,
   "metadata": {
    "hidden": true,
    "init_cell": true,
    "scrolled": true
   },
   "outputs": [
    {
     "name": "stdout",
     "output_type": "stream",
     "text": [
      "<class 'pandas.core.frame.DataFrame'>\n",
      "DatetimeIndex: 252 entries, 2000-01-01 to 2020-12-01\n",
      "Freq: MS\n",
      "Data columns (total 5 columns):\n",
      " #   Column              Non-Null Count  Dtype  \n",
      "---  ------              --------------  -----  \n",
      " 0   Armenia             252 non-null    float64\n",
      " 1   Belarus             252 non-null    float64\n",
      " 2   Kazakhstan          252 non-null    float64\n",
      " 3   Kyrgyz Republic     252 non-null    float64\n",
      " 4   Russian Federation  252 non-null    float64\n",
      "dtypes: float64(5)\n",
      "memory usage: 11.8 KB\n"
     ]
    }
   ],
   "source": [
    "data1995 = pd.read_pickle('data/dataset1995.pkl')\n",
    "data2000 = pd.read_pickle('data/dataset2000.pkl')\n",
    "\n",
    "data2000.info()"
   ]
  },
  {
   "cell_type": "code",
   "execution_count": 3,
   "metadata": {
    "hidden": true,
    "init_cell": true
   },
   "outputs": [],
   "source": [
    "# Changing data\n",
    "dataLogs1995 = data1995.apply(np.log, axis=1)\n",
    "dataLogs2000 = data2000.apply(np.log, axis=1)"
   ]
  },
  {
   "cell_type": "markdown",
   "metadata": {
    "heading_collapsed": true
   },
   "source": [
    "### Report (defaultBase:2000)"
   ]
  },
  {
   "cell_type": "code",
   "execution_count": 7,
   "metadata": {
    "hidden": true
   },
   "outputs": [
    {
     "data": {
      "text/html": [
       "<div>\n",
       "<style scoped>\n",
       "    .dataframe tbody tr th:only-of-type {\n",
       "        vertical-align: middle;\n",
       "    }\n",
       "\n",
       "    .dataframe tbody tr th {\n",
       "        vertical-align: top;\n",
       "    }\n",
       "\n",
       "    .dataframe thead th {\n",
       "        text-align: right;\n",
       "    }\n",
       "</style>\n",
       "<table border=\"1\" class=\"dataframe\">\n",
       "  <thead>\n",
       "    <tr style=\"text-align: right;\">\n",
       "      <th></th>\n",
       "      <th>Armenia</th>\n",
       "      <th>Belarus</th>\n",
       "      <th>Kazakhstan</th>\n",
       "      <th>Kyrgyz Republic</th>\n",
       "      <th>Russian Federation</th>\n",
       "    </tr>\n",
       "    <tr>\n",
       "      <th>Date</th>\n",
       "      <th></th>\n",
       "      <th></th>\n",
       "      <th></th>\n",
       "      <th></th>\n",
       "      <th></th>\n",
       "    </tr>\n",
       "  </thead>\n",
       "  <tbody>\n",
       "    <tr>\n",
       "      <th>2000-01-01</th>\n",
       "      <td>4.605170</td>\n",
       "      <td>4.605170</td>\n",
       "      <td>4.60517</td>\n",
       "      <td>4.605170</td>\n",
       "      <td>4.605170</td>\n",
       "    </tr>\n",
       "    <tr>\n",
       "      <th>2000-02-01</th>\n",
       "      <td>4.618547</td>\n",
       "      <td>4.503707</td>\n",
       "      <td>4.61323</td>\n",
       "      <td>4.609275</td>\n",
       "      <td>4.616659</td>\n",
       "    </tr>\n",
       "  </tbody>\n",
       "</table>\n",
       "</div>"
      ],
      "text/plain": [
       "             Armenia   Belarus  Kazakhstan  Kyrgyz Republic  \\\n",
       "Date                                                          \n",
       "2000-01-01  4.605170  4.605170     4.60517         4.605170   \n",
       "2000-02-01  4.618547  4.503707     4.61323         4.609275   \n",
       "\n",
       "            Russian Federation  \n",
       "Date                            \n",
       "2000-01-01            4.605170  \n",
       "2000-02-01            4.616659  "
      ]
     },
     "execution_count": 7,
     "metadata": {},
     "output_type": "execute_result"
    }
   ],
   "source": [
    "dataLogs2000.head(2)"
   ]
  },
  {
   "cell_type": "code",
   "execution_count": 8,
   "metadata": {
    "hidden": true
   },
   "outputs": [],
   "source": [
    "# Broad EAEU logs reports\n",
    "levels = [0.01,0.05,0.1]\n",
    "quantiles = np.arange(0.1, 1, 0.1)\n",
    "EAEU = pd.Series((dataLogs2000.index >= '2015-01-01').astype(int), index=dataLogs2000.index, name='EAEU')\n",
    "dropQAR = ['δ²', 'Lags', 'α₀(τ)', 'ρ₁(OLS)', 'CV1%', 'CV5%', 'CV10%']\n",
    "dropQTAR = ['δ²', 'Lags', 'α₀(τ)']\n",
    "qadfParams =  {'model':'c', 'pmax':12, 'ic':'AIC'}\n",
    "qtarParams =  {'threshold_dummy':EAEU, 'model':'c', 'pmax':12, 'ic':'AIC'}\n",
    "reps = 1000"
   ]
  },
  {
   "cell_type": "code",
   "execution_count": 9,
   "metadata": {
    "hidden": true
   },
   "outputs": [
    {
     "name": "stdout",
     "output_type": "stream",
     "text": [
      "Starting Execution:\n",
      "\n",
      "Armenia finished in: 129.05s\n",
      "Belarus finished in: 200.8s\n",
      "Kazakhstan finished in: 122.11s\n",
      "Kyrgyz Republic finished in: 119.33s\n",
      "Russian Federation finished in: 156.19s\n",
      "\n",
      "Total time spent executing: 12m, 8s\n"
     ]
    }
   ],
   "source": [
    "QAR_logResults_C, QAR_logReport_C = reportCountries(dataLogs2000, QADF, qadfParams, quantiles, \n",
    "                                                    reps, levels, dropColumns=dropQAR)\n",
    "QAR_logReport_C.to_excel('Outputs/QAR_logReport(C).xlsx', float_format=\"%.3f\")\n",
    "winsound.Beep(2500, 2000)"
   ]
  },
  {
   "cell_type": "code",
   "execution_count": 13,
   "metadata": {
    "hidden": true
   },
   "outputs": [
    {
     "name": "stdout",
     "output_type": "stream",
     "text": [
      "Starting Execution:\n",
      "\n",
      "Armenia finished in: 147.91s\n",
      "Belarus finished in: 213.28s\n",
      "Kazakhstan finished in: 137.01s\n",
      "Kyrgyz Republic finished in: 134.34s\n",
      "Russian Federation finished in: 168.56s\n",
      "\n",
      "Total time spent executing: 13m, 21s\n"
     ]
    }
   ],
   "source": [
    "qadfParams['model'] = 'ct'\n",
    "QAR_logResults_CT, QAR_logReport_CT = reportCountries(dataLogs2000, QADF, qadfParams, quantiles, \n",
    "                                                      reps, levels, dropColumns=dropQAR)\n",
    "QAR_logReport_CT.to_excel('Outputs/QAR_logReport(C&T).xlsx', float_format=\"%.3f\")\n",
    "winsound.Beep(2500, 2000)"
   ]
  },
  {
   "cell_type": "code",
   "execution_count": 14,
   "metadata": {
    "hidden": true
   },
   "outputs": [
    {
     "name": "stdout",
     "output_type": "stream",
     "text": [
      "Starting Execution:\n",
      "\n",
      "Armenia finished in: 120.48s\n",
      "Belarus finished in: 197.43s\n",
      "Kazakhstan finished in: 118.22s\n",
      "Kyrgyz Republic finished in: 117.21s\n",
      "Russian Federation finished in: 152.2s\n",
      "\n",
      "Total time spent executing: 11m, 46s\n"
     ]
    }
   ],
   "source": [
    "QTAR_logResults_C, QTAR_logReport_C = reportCountries(dataLogs2000, QTAR, qtarParams, quantiles, reps, levels, \n",
    "                                                      customReport=QTAR_CustomRport, dropColumns=dropQTAR)\n",
    "QTAR_logReport_C.to_excel('Outputs/QTAR_logReport(C).xlsx', float_format=\"%.3f\")\n",
    "winsound.Beep(2500, 2000)"
   ]
  },
  {
   "cell_type": "code",
   "execution_count": 16,
   "metadata": {
    "hidden": true,
    "scrolled": true
   },
   "outputs": [
    {
     "name": "stdout",
     "output_type": "stream",
     "text": [
      "Starting Execution:\n",
      "\n",
      "Armenia finished in: 140.56s\n",
      "Belarus finished in: 216.35s\n",
      "Kazakhstan finished in: 136.43s\n",
      "Kyrgyz Republic finished in: 134.56s\n",
      "Russian Federation finished in: 176.95s\n",
      "\n",
      "Total time spent executing: 13m, 25s\n"
     ]
    }
   ],
   "source": [
    "qtarParams['model'] = 'ct'\n",
    "QTAR_logResults_CT, QTAR_logReport_CT = reportCountries(dataLogs2000, QTAR, qtarParams, quantiles, reps, levels, \n",
    "                                                        customReport=QTAR_CustomRport, dropColumns=dropQTAR)\n",
    "QTAR_logReport_CT.to_excel('Outputs/QTAR_logReport(C&T).xlsx', float_format=\"%.3f\")\n",
    "winsound.Beep(2500, 2000)"
   ]
  },
  {
   "cell_type": "code",
   "execution_count": null,
   "metadata": {
    "hidden": true
   },
   "outputs": [],
   "source": []
  },
  {
   "cell_type": "code",
   "execution_count": null,
   "metadata": {
    "hidden": true
   },
   "outputs": [],
   "source": []
  },
  {
   "cell_type": "markdown",
   "metadata": {
    "heading_collapsed": true
   },
   "source": [
    "### Report (1995)"
   ]
  },
  {
   "cell_type": "code",
   "execution_count": 20,
   "metadata": {
    "hidden": true
   },
   "outputs": [],
   "source": [
    "# Broad EAEU logs reports 1995 base year\n",
    "levels = [0.01,0.05,0.1]\n",
    "quantiles = np.arange(0.1, 1, 0.1)\n",
    "EAEU = pd.Series((dataLogs1995.index >= '2015-01-01').astype(int), index=dataLogs1995.index, name='EAEU')\n",
    "dropQAR = ['δ²', 'Lags', 'α₀(τ)', 'ρ₁(OLS)', 'CV1%', 'CV5%', 'CV10%']\n",
    "dropQTAR = ['δ²', 'Lags', 'α₀(τ)']\n",
    "qadfParams =  {'model':'c', 'pmax':12, 'ic':'AIC'}\n",
    "qtarParams =  {'threshold_dummy':EAEU, 'model':'c', 'pmax':12, 'ic':'AIC'}\n",
    "reps = 1000"
   ]
  },
  {
   "cell_type": "code",
   "execution_count": 21,
   "metadata": {
    "hidden": true
   },
   "outputs": [
    {
     "name": "stdout",
     "output_type": "stream",
     "text": [
      "Starting Execution:\n",
      "\n",
      "Armenia finished in: 125.81s\n",
      "Belarus finished in: 234.48s\n",
      "Kazakhstan finished in: 119.68s\n",
      "Kyrgyz Republic finished in: 125.54s\n",
      "Russian Federation finished in: 127.33s\n",
      "\n",
      "Total time spent executing: 12m, 13s\n"
     ]
    }
   ],
   "source": [
    "QAR_logResults1995_C, QAR_logReport1995_C = reportCountries(dataLogs1995, QADF, qadfParams, quantiles,\n",
    "                                                            reps, levels, dropColumns=dropQAR)\n",
    "QAR_logReport1995_C.to_excel('Outputs/results1995/QAR_logReport1995(C).xlsx', float_format=\"%.3f\")\n",
    "winsound.Beep(2500, 2000)"
   ]
  },
  {
   "cell_type": "code",
   "execution_count": 22,
   "metadata": {
    "hidden": true
   },
   "outputs": [
    {
     "name": "stdout",
     "output_type": "stream",
     "text": [
      "Starting Execution:\n",
      "\n",
      "Armenia finished in: 142.29s\n",
      "Belarus finished in: 258.07s\n",
      "Kazakhstan finished in: 139.13s\n",
      "Kyrgyz Republic finished in: 145.15s\n",
      "Russian Federation finished in: 147.82s\n",
      "\n",
      "Total time spent executing: 13m, 53s\n"
     ]
    }
   ],
   "source": [
    "qadfParams['model'] = 'ct'\n",
    "QAR_logResults1995_CT, QAR_logReport1995_CT = reportCountries(dataLogs1995, QADF, qadfParams, quantiles,\n",
    "                                                              reps, levels, dropColumns=dropQAR)\n",
    "QAR_logReport1995_CT.to_excel('Outputs/results1995/QAR_logReport1995(C&T).xlsx', float_format=\"%.3f\")\n",
    "winsound.Beep(2500, 2000)"
   ]
  },
  {
   "cell_type": "code",
   "execution_count": 23,
   "metadata": {
    "hidden": true
   },
   "outputs": [
    {
     "name": "stdout",
     "output_type": "stream",
     "text": [
      "Starting Execution:\n",
      "\n",
      "Armenia finished in: 122.82s\n",
      "Belarus finished in: 237.26s\n",
      "Kazakhstan finished in: 122.54s\n",
      "Kyrgyz Republic finished in: 128.81s\n",
      "Russian Federation finished in: 130.95s\n",
      "\n",
      "Total time spent executing: 12m, 22s\n"
     ]
    }
   ],
   "source": [
    "QTAR_logResults1995_C, QTAR_logReport1995_C = reportCountries(dataLogs1995, QTAR, qtarParams, quantiles, reps, levels,\n",
    "                                                              customReport=QTAR_CustomRport, dropColumns=dropQTAR)\n",
    "QTAR_logReport1995_C.to_excel('Outputs/results1995/QTAR_logReport1995(C).xlsx', float_format=\"%.3f\")\n",
    "winsound.Beep(2500, 2000)"
   ]
  },
  {
   "cell_type": "code",
   "execution_count": 24,
   "metadata": {
    "hidden": true
   },
   "outputs": [
    {
     "name": "stdout",
     "output_type": "stream",
     "text": [
      "Starting Execution:\n",
      "\n",
      "Armenia finished in: 144.75s\n",
      "Belarus finished in: 265.24s\n",
      "Kazakhstan finished in: 139.48s\n",
      "Kyrgyz Republic finished in: 144.97s\n",
      "Russian Federation finished in: 146.95s\n",
      "\n",
      "Total time spent executing: 14m, 2s\n"
     ]
    }
   ],
   "source": [
    "qtarParams['model'] = 'ct'\n",
    "QTAR_logResults1995_CT, QTAR_logReport1995_CT = reportCountries(dataLogs1995, QTAR, qtarParams, quantiles, reps,\n",
    "                                                                levels, customReport=QTAR_CustomRport,\n",
    "                                                                dropColumns=dropQTAR)\n",
    "QTAR_logReport1995_CT.to_excel('Outputs/results1995/QTAR_logReport1995(C&T).xlsx', float_format=\"%.3f\")\n",
    "winsound.Beep(2500, 2000)"
   ]
  },
  {
   "cell_type": "code",
   "execution_count": null,
   "metadata": {
    "hidden": true
   },
   "outputs": [],
   "source": []
  },
  {
   "cell_type": "code",
   "execution_count": null,
   "metadata": {
    "hidden": true
   },
   "outputs": [],
   "source": []
  }
 ],
 "metadata": {
  "hide_input": false,
  "kernelspec": {
   "display_name": "Python 3",
   "language": "python",
   "name": "python3"
  },
  "language_info": {
   "codemirror_mode": {
    "name": "ipython",
    "version": 3
   },
   "file_extension": ".py",
   "mimetype": "text/x-python",
   "name": "python",
   "nbconvert_exporter": "python",
   "pygments_lexer": "ipython3",
   "version": "3.8.10"
  },
  "latex_envs": {
   "LaTeX_envs_menu_present": true,
   "autoclose": false,
   "autocomplete": true,
   "bibliofile": "biblio.bib",
   "cite_by": "apalike",
   "current_citInitial": 1,
   "eqLabelWithNumbers": true,
   "eqNumInitial": 1,
   "hotkeys": {
    "equation": "Ctrl-E",
    "itemize": "Ctrl-I"
   },
   "labels_anchors": false,
   "latex_user_defs": false,
   "report_style_numbering": false,
   "user_envs_cfg": false
  },
  "toc": {
   "base_numbering": 1,
   "nav_menu": {},
   "number_sections": true,
   "sideBar": true,
   "skip_h1_title": false,
   "title_cell": "Table of Contents",
   "title_sidebar": "Contents",
   "toc_cell": false,
   "toc_position": {},
   "toc_section_display": true,
   "toc_window_display": false
  },
  "varInspector": {
   "cols": {
    "lenName": 16,
    "lenType": 16,
    "lenVar": 40
   },
   "kernels_config": {
    "python": {
     "delete_cmd_postfix": "",
     "delete_cmd_prefix": "del ",
     "library": "var_list.py",
     "varRefreshCmd": "print(var_dic_list())"
    },
    "r": {
     "delete_cmd_postfix": ") ",
     "delete_cmd_prefix": "rm(",
     "library": "var_list.r",
     "varRefreshCmd": "cat(var_dic_list()) "
    }
   },
   "types_to_exclude": [
    "module",
    "function",
    "builtin_function_or_method",
    "instance",
    "_Feature"
   ],
   "window_display": false
  }
 },
 "nbformat": 4,
 "nbformat_minor": 1
}
